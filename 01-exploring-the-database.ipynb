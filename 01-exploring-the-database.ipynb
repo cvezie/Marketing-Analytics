{
 "cells": [
  {
   "cell_type": "markdown",
   "metadata": {},
   "source": [
    "# [1] Exploring The Database"
   ]
  },
  {
   "cell_type": "code",
   "execution_count": 1,
   "metadata": {
    "scrolled": false
   },
   "outputs": [
    {
     "name": "stdout",
     "output_type": "stream",
     "text": [
      "/home/jovyan/Business_Analytics/Business-Insights-and-Analytics/Marketing_Analytics\n"
     ]
    }
   ],
   "source": [
    "cd .."
   ]
  },
  {
   "cell_type": "code",
   "execution_count": 3,
   "metadata": {},
   "outputs": [],
   "source": [
    "%run __init__.py"
   ]
  },
  {
   "cell_type": "markdown",
   "metadata": {},
   "source": [
    "## 1. How many users have signed up? - 64416\n",
    "a) View the shape of the `people_person` table to find out how many users have signed up"
   ]
  },
  {
   "cell_type": "code",
   "execution_count": 4,
   "metadata": {
    "scrolled": true
   },
   "outputs": [
    {
     "data": {
      "text/plain": [
       "(64416, 9)"
      ]
     },
     "execution_count": 4,
     "metadata": {},
     "output_type": "execute_result"
    }
   ],
   "source": [
    "people_person.shape"
   ]
  },
  {
   "cell_type": "markdown",
   "metadata": {},
   "source": [
    "## 2. How many users signed up prior to 2017-01-12? - 35500\n",
    "a) Convert `date_joined` table to datetime format\n",
    "\n",
    "b) Sort the values in the new `date` column\n",
    "\n",
    "c) Create a mask that finds all the entries with a `date` prior to `2017-01-12`"
   ]
  },
  {
   "cell_type": "code",
   "execution_count": 4,
   "metadata": {},
   "outputs": [],
   "source": [
    "# convert the `date_joined` column to datetime format\n",
    "\n",
    "people_person['date_joined'] = pd.to_datetime(people_person['date_joined'])"
   ]
  },
  {
   "cell_type": "code",
   "execution_count": 5,
   "metadata": {},
   "outputs": [],
   "source": [
    "# splitting the `date_joined` column into a date column and a time column\n",
    "\n",
    "people_person['date'] = people_person[\"date_joined\"].dt.date"
   ]
  },
  {
   "cell_type": "code",
   "execution_count": 6,
   "metadata": {
    "scrolled": true
   },
   "outputs": [
    {
     "data": {
      "text/html": [
       "<div>\n",
       "<table border=\"1\" class=\"dataframe\">\n",
       "  <thead>\n",
       "    <tr style=\"text-align: right;\">\n",
       "      <th></th>\n",
       "      <th>id</th>\n",
       "      <th>first_name</th>\n",
       "      <th>last_name</th>\n",
       "      <th>email</th>\n",
       "      <th>channel</th>\n",
       "      <th>date_joined</th>\n",
       "      <th>photo</th>\n",
       "      <th>fee</th>\n",
       "      <th>gender</th>\n",
       "      <th>date</th>\n",
       "    </tr>\n",
       "  </thead>\n",
       "  <tbody>\n",
       "    <tr>\n",
       "      <th>0</th>\n",
       "      <td>1</td>\n",
       "      <td>Meaghan</td>\n",
       "      <td>Lapete</td>\n",
       "      <td>meaghan.lapete820@aol.com</td>\n",
       "      <td>NaN</td>\n",
       "      <td>2015-07-12 15:13:16.673652</td>\n",
       "      <td>https://placekitten.com/360/208</td>\n",
       "      <td>0.0</td>\n",
       "      <td>f</td>\n",
       "      <td>2015-07-12</td>\n",
       "    </tr>\n",
       "    <tr>\n",
       "      <th>72</th>\n",
       "      <td>73</td>\n",
       "      <td>Napoleon</td>\n",
       "      <td>Quaresma</td>\n",
       "      <td>napoleon.quaresma561@gmail.com</td>\n",
       "      <td>NaN</td>\n",
       "      <td>2015-07-12 14:07:05.476956</td>\n",
       "      <td>https://placekitten.com/223/294</td>\n",
       "      <td>0.0</td>\n",
       "      <td>m</td>\n",
       "      <td>2015-07-12</td>\n",
       "    </tr>\n",
       "    <tr>\n",
       "      <th>71</th>\n",
       "      <td>72</td>\n",
       "      <td>Norman</td>\n",
       "      <td>Barde</td>\n",
       "      <td>norman.barde755@yahoo.com</td>\n",
       "      <td>NaN</td>\n",
       "      <td>2015-07-12 05:14:12.241734</td>\n",
       "      <td>https://placekitten.com/296/252</td>\n",
       "      <td>0.0</td>\n",
       "      <td>m</td>\n",
       "      <td>2015-07-12</td>\n",
       "    </tr>\n",
       "    <tr>\n",
       "      <th>70</th>\n",
       "      <td>71</td>\n",
       "      <td>Chan</td>\n",
       "      <td>Suski</td>\n",
       "      <td>chan.suski812@aol.com</td>\n",
       "      <td>NaN</td>\n",
       "      <td>2015-07-12 14:59:47.974328</td>\n",
       "      <td>https://placekitten.com/366/382</td>\n",
       "      <td>0.0</td>\n",
       "      <td>f</td>\n",
       "      <td>2015-07-12</td>\n",
       "    </tr>\n",
       "    <tr>\n",
       "      <th>69</th>\n",
       "      <td>70</td>\n",
       "      <td>Diamond</td>\n",
       "      <td>Vangelder</td>\n",
       "      <td>diamond.vangelder902@aol.com</td>\n",
       "      <td>NaN</td>\n",
       "      <td>2015-07-12 13:52:21.988545</td>\n",
       "      <td>https://placekitten.com/209/322</td>\n",
       "      <td>0.0</td>\n",
       "      <td>f</td>\n",
       "      <td>2015-07-12</td>\n",
       "    </tr>\n",
       "  </tbody>\n",
       "</table>\n",
       "</div>"
      ],
      "text/plain": [
       "    id first_name  last_name                           email channel  \\\n",
       "0    1    Meaghan     Lapete       meaghan.lapete820@aol.com     NaN   \n",
       "72  73   Napoleon   Quaresma  napoleon.quaresma561@gmail.com     NaN   \n",
       "71  72     Norman      Barde       norman.barde755@yahoo.com     NaN   \n",
       "70  71       Chan      Suski           chan.suski812@aol.com     NaN   \n",
       "69  70    Diamond  Vangelder    diamond.vangelder902@aol.com     NaN   \n",
       "\n",
       "                  date_joined                            photo  fee gender  \\\n",
       "0  2015-07-12 15:13:16.673652  https://placekitten.com/360/208  0.0      f   \n",
       "72 2015-07-12 14:07:05.476956  https://placekitten.com/223/294  0.0      m   \n",
       "71 2015-07-12 05:14:12.241734  https://placekitten.com/296/252  0.0      m   \n",
       "70 2015-07-12 14:59:47.974328  https://placekitten.com/366/382  0.0      f   \n",
       "69 2015-07-12 13:52:21.988545  https://placekitten.com/209/322  0.0      f   \n",
       "\n",
       "          date  \n",
       "0   2015-07-12  \n",
       "72  2015-07-12  \n",
       "71  2015-07-12  \n",
       "70  2015-07-12  \n",
       "69  2015-07-12  "
      ]
     },
     "execution_count": 6,
     "metadata": {},
     "output_type": "execute_result"
    }
   ],
   "source": [
    "people_person.sort_values(by='date').head()"
   ]
  },
  {
   "cell_type": "code",
   "execution_count": 7,
   "metadata": {
    "scrolled": true
   },
   "outputs": [
    {
     "data": {
      "text/plain": [
       "(35500, 10)"
      ]
     },
     "execution_count": 7,
     "metadata": {},
     "output_type": "execute_result"
    }
   ],
   "source": [
    "# all the users that signed up before 2017-01-12\n",
    "\n",
    "early_signers = people_person[(people_person['date'] < datetime.date(2017,1,12))]\n",
    "early_signers.shape"
   ]
  },
  {
   "cell_type": "markdown",
   "metadata": {},
   "source": [
    "## 3. What percentage of users have added pets? - 80.44%\n",
    "\n",
    "a) Join the people_person and `pets_pet` tables in sqlite3 using query: \n",
    "\n",
    "         SELECT h.id, p.owner_id\n",
    "         FROM people_person h\n",
    "         JOIN pets_pet p\n",
    "         ON (h.id = p.owner_id);\n",
    "\n",
    "b) Save query result to csv titled `users_with_pets`\n",
    "\n",
    "c) Count the number of unique `id's` in the `users_with_pets` table. This is the number of people with pets\n",
    "\n",
    "d) Calculate the percentage of users with pets by dividing the `number_users_with_pets` by the `number_users`, multiply by 100"
   ]
  },
  {
   "cell_type": "code",
   "execution_count": 8,
   "metadata": {},
   "outputs": [
    {
     "data": {
      "text/plain": [
       "(77512, 2)"
      ]
     },
     "execution_count": 8,
     "metadata": {},
     "output_type": "execute_result"
    }
   ],
   "source": [
    "users_with_pets = pd.read_csv('./users_with_pets.csv')\n",
    "users_with_pets.shape"
   ]
  },
  {
   "cell_type": "code",
   "execution_count": 9,
   "metadata": {},
   "outputs": [
    {
     "data": {
      "text/html": [
       "<div>\n",
       "<table border=\"1\" class=\"dataframe\">\n",
       "  <thead>\n",
       "    <tr style=\"text-align: right;\">\n",
       "      <th></th>\n",
       "      <th>id</th>\n",
       "      <th>owner_id</th>\n",
       "    </tr>\n",
       "  </thead>\n",
       "  <tbody>\n",
       "    <tr>\n",
       "      <th>0</th>\n",
       "      <td>12601</td>\n",
       "      <td>12601</td>\n",
       "    </tr>\n",
       "    <tr>\n",
       "      <th>1</th>\n",
       "      <td>12601</td>\n",
       "      <td>12601</td>\n",
       "    </tr>\n",
       "    <tr>\n",
       "      <th>2</th>\n",
       "      <td>12602</td>\n",
       "      <td>12602</td>\n",
       "    </tr>\n",
       "    <tr>\n",
       "      <th>3</th>\n",
       "      <td>12602</td>\n",
       "      <td>12602</td>\n",
       "    </tr>\n",
       "    <tr>\n",
       "      <th>4</th>\n",
       "      <td>12603</td>\n",
       "      <td>12603</td>\n",
       "    </tr>\n",
       "  </tbody>\n",
       "</table>\n",
       "</div>"
      ],
      "text/plain": [
       "      id  owner_id\n",
       "0  12601     12601\n",
       "1  12601     12601\n",
       "2  12602     12602\n",
       "3  12602     12602\n",
       "4  12603     12603"
      ]
     },
     "execution_count": 9,
     "metadata": {},
     "output_type": "execute_result"
    }
   ],
   "source": [
    "users_with_pets.head()"
   ]
  },
  {
   "cell_type": "code",
   "execution_count": 10,
   "metadata": {},
   "outputs": [
    {
     "data": {
      "text/plain": [
       "51816"
      ]
     },
     "execution_count": 10,
     "metadata": {},
     "output_type": "execute_result"
    }
   ],
   "source": [
    "# count the number of unique owner id's in users_with_pets df, this is the number of people with pets\n",
    "number_users_with_pets = len(users_with_pets.id.unique())\n",
    "number_users_with_pets"
   ]
  },
  {
   "cell_type": "code",
   "execution_count": 11,
   "metadata": {},
   "outputs": [
    {
     "data": {
      "text/plain": [
       "64416"
      ]
     },
     "execution_count": 11,
     "metadata": {},
     "output_type": "execute_result"
    }
   ],
   "source": [
    "# number of users is the number of rows in the people_person df. \n",
    "number_users = people_person.shape[0]\n",
    "number_users"
   ]
  },
  {
   "cell_type": "code",
   "execution_count": 12,
   "metadata": {},
   "outputs": [
    {
     "data": {
      "text/plain": [
       "80.43964232488823"
      ]
     },
     "execution_count": 12,
     "metadata": {},
     "output_type": "execute_result"
    }
   ],
   "source": [
    "percentage_with_pets = (number_users_with_pets/number_users) * 100\n",
    "percentage_with_pets"
   ]
  },
  {
   "cell_type": "markdown",
   "metadata": {},
   "source": [
    "## 4. Of those users, how many pets have they added on average? - 1.496\n",
    "a) Count the number of individual pets by finding the number of id's in the `pets_pet` table\n",
    "    \n",
    "b) Calculate the number of pets users have added on average by dividing the `number_of_pets` with the `number_of_users_with_pets`"
   ]
  },
  {
   "cell_type": "code",
   "execution_count": 13,
   "metadata": {},
   "outputs": [],
   "source": [
    "number_of_pets = len(pets_pet.id)"
   ]
  },
  {
   "cell_type": "code",
   "execution_count": 14,
   "metadata": {},
   "outputs": [
    {
     "data": {
      "text/plain": [
       "(77512, 51816)"
      ]
     },
     "execution_count": 14,
     "metadata": {},
     "output_type": "execute_result"
    }
   ],
   "source": [
    "number_of_pets, number_users_with_pets"
   ]
  },
  {
   "cell_type": "code",
   "execution_count": 15,
   "metadata": {},
   "outputs": [
    {
     "data": {
      "text/plain": [
       "1.4959085996603365"
      ]
     },
     "execution_count": 15,
     "metadata": {},
     "output_type": "execute_result"
    }
   ],
   "source": [
    "number_of_pets / number_users_with_pets"
   ]
  },
  {
   "cell_type": "markdown",
   "metadata": {},
   "source": [
    "## 5. What percentage of pets play well with cats? - 24.78%\n",
    "a) Use `value_counts()` to count the number of pets that play well with cats, a value of 1 indicates a pet plays well with cats\n",
    "\n",
    "b) Calculate the percentage that plays well with cats by dividing the number of those that do with the total number of pets, multiply by 100"
   ]
  },
  {
   "cell_type": "code",
   "execution_count": 16,
   "metadata": {},
   "outputs": [
    {
     "data": {
      "text/plain": [
       "0    58308\n",
       "1    19204\n",
       "Name: plays_cats, dtype: int64"
      ]
     },
     "execution_count": 16,
     "metadata": {},
     "output_type": "execute_result"
    }
   ],
   "source": [
    "pets_pet.plays_cats.value_counts()"
   ]
  },
  {
   "cell_type": "code",
   "execution_count": 17,
   "metadata": {},
   "outputs": [
    {
     "data": {
      "text/plain": [
       "24.775518629373515"
      ]
     },
     "execution_count": 17,
     "metadata": {},
     "output_type": "execute_result"
    }
   ],
   "source": [
    "plays_well_with_cats = (19204 / number_of_pets) * 100\n",
    "plays_well_with_cats"
   ]
  },
  {
   "cell_type": "code",
   "execution_count": null,
   "metadata": {},
   "outputs": [],
   "source": []
  }
 ],
 "metadata": {
  "kernelspec": {
   "display_name": "Python 3",
   "language": "python",
   "name": "python3"
  },
  "language_info": {
   "codemirror_mode": {
    "name": "ipython",
    "version": 3
   },
   "file_extension": ".py",
   "mimetype": "text/x-python",
   "name": "python",
   "nbconvert_exporter": "python",
   "pygments_lexer": "ipython3",
   "version": "3.6.2"
  }
 },
 "nbformat": 4,
 "nbformat_minor": 2
}
