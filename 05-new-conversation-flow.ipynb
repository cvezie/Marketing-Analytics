{
 "cells": [
  {
   "cell_type": "markdown",
   "metadata": {},
   "source": [
    "# [5] New Conversation Flow\n",
    "\n",
    "Internal documents indicate that this recently acquired company was performing many A/B tests; we would like to investigate one. This platform had a conversation page where owners and service providers could exchange messages as they organized their booking. The team thought this page could use a re-design and set out to improve its UI. A product manager then set up a test to measure the new page's effectiveness. On 2017-03-13 , an A/B test was launched. For those owners who sent a request, they would be randomly assigned to variant or holdout groups. Those users who are in the variant group would see the new conversation flow. However, those in the holdout group would see the old conversation flow. Providers would always see the old conversation flow."
   ]
  },
  {
   "cell_type": "code",
   "execution_count": 1,
   "metadata": {},
   "outputs": [
    {
     "name": "stdout",
     "output_type": "stream",
     "text": [
      "/home/jovyan/Business_Analytics/Business-Insights-and-Analytics/Marketing_Analytics\n"
     ]
    }
   ],
   "source": [
    "cd .."
   ]
  },
  {
   "cell_type": "code",
   "execution_count": 2,
   "metadata": {},
   "outputs": [],
   "source": [
    "%run __init__.py\n",
    "%matplotlib inline"
   ]
  },
  {
   "cell_type": "code",
   "execution_count": 13,
   "metadata": {},
   "outputs": [],
   "source": [
    "conn = sqlite3.connect('db26.sqlite3')"
   ]
  },
  {
   "cell_type": "code",
   "execution_count": null,
   "metadata": {},
   "outputs": [],
   "source": []
  },
  {
   "cell_type": "markdown",
   "metadata": {},
   "source": [
    "## 1. Did conversations with the new conversation page book at a higher rate? - Yes"
   ]
  },
  {
   "cell_type": "code",
   "execution_count": 14,
   "metadata": {},
   "outputs": [],
   "source": [
    "query_test = ('SELECT p.test_group, COUNT(p.test_name) AS total_number_people, COUNT(c.booked_at) AS booked_at \\\n",
    "               FROM conversations_conversation c \\\n",
    "               JOIN people_testsegmentation p \\\n",
    "               ON (c.requester_id = p.person_id) \\\n",
    "               WHERE p.test_name = \"New Conversation Flow\" \\\n",
    "               GROUP BY p.test_group;')"
   ]
  },
  {
   "cell_type": "code",
   "execution_count": 15,
   "metadata": {},
   "outputs": [
    {
     "data": {
      "text/html": [
       "<div>\n",
       "<table border=\"1\" class=\"dataframe\">\n",
       "  <thead>\n",
       "    <tr style=\"text-align: right;\">\n",
       "      <th></th>\n",
       "      <th>test_group</th>\n",
       "      <th>total_number_people</th>\n",
       "      <th>booked_at</th>\n",
       "    </tr>\n",
       "  </thead>\n",
       "  <tbody>\n",
       "    <tr>\n",
       "      <th>0</th>\n",
       "      <td>holdout</td>\n",
       "      <td>22895</td>\n",
       "      <td>9174</td>\n",
       "    </tr>\n",
       "    <tr>\n",
       "      <th>1</th>\n",
       "      <td>variant</td>\n",
       "      <td>22941</td>\n",
       "      <td>10136</td>\n",
       "    </tr>\n",
       "  </tbody>\n",
       "</table>\n",
       "</div>"
      ],
      "text/plain": [
       "  test_group  total_number_people  booked_at\n",
       "0    holdout                22895       9174\n",
       "1    variant                22941      10136"
      ]
     },
     "execution_count": 15,
     "metadata": {},
     "output_type": "execute_result"
    }
   ],
   "source": [
    "test_results = pd.read_sql_query(query_test, conn)\n",
    "test_results"
   ]
  },
  {
   "cell_type": "code",
   "execution_count": 16,
   "metadata": {
    "scrolled": true
   },
   "outputs": [
    {
     "data": {
      "text/html": [
       "<div>\n",
       "<table border=\"1\" class=\"dataframe\">\n",
       "  <thead>\n",
       "    <tr style=\"text-align: right;\">\n",
       "      <th></th>\n",
       "      <th>test_group</th>\n",
       "      <th>total_number_people</th>\n",
       "      <th>booked_at</th>\n",
       "      <th>booking_rate</th>\n",
       "    </tr>\n",
       "  </thead>\n",
       "  <tbody>\n",
       "    <tr>\n",
       "      <th>0</th>\n",
       "      <td>holdout</td>\n",
       "      <td>22895</td>\n",
       "      <td>9174</td>\n",
       "      <td>40.069884</td>\n",
       "    </tr>\n",
       "    <tr>\n",
       "      <th>1</th>\n",
       "      <td>variant</td>\n",
       "      <td>22941</td>\n",
       "      <td>10136</td>\n",
       "      <td>44.182904</td>\n",
       "    </tr>\n",
       "  </tbody>\n",
       "</table>\n",
       "</div>"
      ],
      "text/plain": [
       "  test_group  total_number_people  booked_at  booking_rate\n",
       "0    holdout                22895       9174     40.069884\n",
       "1    variant                22941      10136     44.182904"
      ]
     },
     "execution_count": 16,
     "metadata": {},
     "output_type": "execute_result"
    }
   ],
   "source": [
    "test_results['booking_rate'] = (test_results.booked_at / test_results.total_number_people) * 100\n",
    "test_results"
   ]
  },
  {
   "cell_type": "code",
   "execution_count": 17,
   "metadata": {},
   "outputs": [],
   "source": [
    "test_results.rename(columns={\n",
    "    'test_group': 'Test Group Name',\n",
    "    'total_number_people': 'Total Number of People',\n",
    "    'booked_at': 'Number of Bookings',\n",
    "    'booking_rate': 'Booking Rate (%)'\n",
    "}, inplace=True)"
   ]
  },
  {
   "cell_type": "code",
   "execution_count": 18,
   "metadata": {},
   "outputs": [
    {
     "data": {
      "text/html": [
       "<div>\n",
       "<table border=\"1\" class=\"dataframe\">\n",
       "  <thead>\n",
       "    <tr style=\"text-align: right;\">\n",
       "      <th></th>\n",
       "      <th>Test Group Name</th>\n",
       "      <th>Total Number of People</th>\n",
       "      <th>Number of Bookings</th>\n",
       "      <th>Booking Rate (%)</th>\n",
       "    </tr>\n",
       "  </thead>\n",
       "  <tbody>\n",
       "    <tr>\n",
       "      <th>0</th>\n",
       "      <td>holdout</td>\n",
       "      <td>22895</td>\n",
       "      <td>9174</td>\n",
       "      <td>40.069884</td>\n",
       "    </tr>\n",
       "    <tr>\n",
       "      <th>1</th>\n",
       "      <td>variant</td>\n",
       "      <td>22941</td>\n",
       "      <td>10136</td>\n",
       "      <td>44.182904</td>\n",
       "    </tr>\n",
       "  </tbody>\n",
       "</table>\n",
       "</div>"
      ],
      "text/plain": [
       "  Test Group Name  Total Number of People  Number of Bookings  \\\n",
       "0         holdout                   22895                9174   \n",
       "1         variant                   22941               10136   \n",
       "\n",
       "   Booking Rate (%)  \n",
       "0         40.069884  \n",
       "1         44.182904  "
      ]
     },
     "execution_count": 18,
     "metadata": {},
     "output_type": "execute_result"
    }
   ],
   "source": [
    "test_results"
   ]
  },
  {
   "cell_type": "code",
   "execution_count": 33,
   "metadata": {},
   "outputs": [
    {
     "data": {
      "text/plain": [
       "0.4212845798062658"
      ]
     },
     "execution_count": 33,
     "metadata": {},
     "output_type": "execute_result"
    }
   ],
   "source": [
    "((9174 + 10136) / (22895 + 22941))"
   ]
  },
  {
   "cell_type": "markdown",
   "metadata": {},
   "source": [
    "## 2. Is it statistically significant?\n",
    "\n",
    "$H_0$: The booking rate for the variant group was not different than the booking rate of the holdout group.  \n",
    "\n",
    "$H_1$: The booking rate for the variant group was different than the booking rate of the holdout group."
   ]
  },
  {
   "cell_type": "code",
   "execution_count": 19,
   "metadata": {},
   "outputs": [],
   "source": [
    "query_new_conv = ('SELECT p.test_group, p.test_name, c.booked_at \\\n",
    "                   FROM conversations_conversation c \\\n",
    "                   JOIN people_testsegmentation p \\\n",
    "                   ON (c.requester_id = p.person_id) \\\n",
    "                   WHERE p.test_name = \"New Conversation Flow\";')"
   ]
  },
  {
   "cell_type": "code",
   "execution_count": 20,
   "metadata": {},
   "outputs": [
    {
     "data": {
      "text/html": [
       "<div>\n",
       "<table border=\"1\" class=\"dataframe\">\n",
       "  <thead>\n",
       "    <tr style=\"text-align: right;\">\n",
       "      <th></th>\n",
       "      <th>test_group</th>\n",
       "      <th>test_name</th>\n",
       "      <th>booked_at</th>\n",
       "    </tr>\n",
       "  </thead>\n",
       "  <tbody>\n",
       "    <tr>\n",
       "      <th>0</th>\n",
       "      <td>holdout</td>\n",
       "      <td>New Conversation Flow</td>\n",
       "      <td>2017-05-26 21:02:09.499404</td>\n",
       "    </tr>\n",
       "    <tr>\n",
       "      <th>1</th>\n",
       "      <td>holdout</td>\n",
       "      <td>New Conversation Flow</td>\n",
       "      <td>None</td>\n",
       "    </tr>\n",
       "  </tbody>\n",
       "</table>\n",
       "</div>"
      ],
      "text/plain": [
       "  test_group              test_name                   booked_at\n",
       "0    holdout  New Conversation Flow  2017-05-26 21:02:09.499404\n",
       "1    holdout  New Conversation Flow                        None"
      ]
     },
     "execution_count": 20,
     "metadata": {},
     "output_type": "execute_result"
    }
   ],
   "source": [
    "new_conv_flow = pd.read_sql_query(query_new_conv, conn)\n",
    "new_conv_flow.head(2)"
   ]
  },
  {
   "cell_type": "code",
   "execution_count": 21,
   "metadata": {
    "scrolled": true
   },
   "outputs": [
    {
     "data": {
      "text/html": [
       "<div>\n",
       "<table border=\"1\" class=\"dataframe\">\n",
       "  <thead>\n",
       "    <tr style=\"text-align: right;\">\n",
       "      <th></th>\n",
       "      <th>test_group</th>\n",
       "      <th>test_name</th>\n",
       "      <th>booked_at</th>\n",
       "    </tr>\n",
       "  </thead>\n",
       "  <tbody>\n",
       "    <tr>\n",
       "      <th>0</th>\n",
       "      <td>holdout</td>\n",
       "      <td>New Conversation Flow</td>\n",
       "      <td>2017-05-26 21:02:09.499404</td>\n",
       "    </tr>\n",
       "    <tr>\n",
       "      <th>1</th>\n",
       "      <td>holdout</td>\n",
       "      <td>New Conversation Flow</td>\n",
       "      <td>0</td>\n",
       "    </tr>\n",
       "  </tbody>\n",
       "</table>\n",
       "</div>"
      ],
      "text/plain": [
       "  test_group              test_name                   booked_at\n",
       "0    holdout  New Conversation Flow  2017-05-26 21:02:09.499404\n",
       "1    holdout  New Conversation Flow                           0"
      ]
     },
     "execution_count": 21,
     "metadata": {},
     "output_type": "execute_result"
    }
   ],
   "source": [
    "new_conv_flow = new_conv_flow.fillna(0)\n",
    "new_conv_flow.head(2)"
   ]
  },
  {
   "cell_type": "code",
   "execution_count": 22,
   "metadata": {},
   "outputs": [
    {
     "data": {
      "text/html": [
       "<div>\n",
       "<table border=\"1\" class=\"dataframe\">\n",
       "  <thead>\n",
       "    <tr style=\"text-align: right;\">\n",
       "      <th></th>\n",
       "      <th>test_group</th>\n",
       "      <th>test_name</th>\n",
       "      <th>booked_at</th>\n",
       "    </tr>\n",
       "  </thead>\n",
       "  <tbody>\n",
       "    <tr>\n",
       "      <th>0</th>\n",
       "      <td>holdout</td>\n",
       "      <td>New Conversation Flow</td>\n",
       "      <td>True</td>\n",
       "    </tr>\n",
       "    <tr>\n",
       "      <th>1</th>\n",
       "      <td>holdout</td>\n",
       "      <td>New Conversation Flow</td>\n",
       "      <td>False</td>\n",
       "    </tr>\n",
       "  </tbody>\n",
       "</table>\n",
       "</div>"
      ],
      "text/plain": [
       "  test_group              test_name booked_at\n",
       "0    holdout  New Conversation Flow      True\n",
       "1    holdout  New Conversation Flow     False"
      ]
     },
     "execution_count": 22,
     "metadata": {},
     "output_type": "execute_result"
    }
   ],
   "source": [
    "new_conv_flow['booked_at'] = new_conv_flow.booked_at.apply(lambda x = 1: x != 0)\n",
    "new_conv_flow.head(2)"
   ]
  },
  {
   "cell_type": "code",
   "execution_count": 23,
   "metadata": {},
   "outputs": [
    {
     "data": {
      "text/html": [
       "<div>\n",
       "<table border=\"1\" class=\"dataframe\">\n",
       "  <thead>\n",
       "    <tr style=\"text-align: right;\">\n",
       "      <th></th>\n",
       "      <th>test_group</th>\n",
       "      <th>test_name</th>\n",
       "      <th>booked_at</th>\n",
       "    </tr>\n",
       "  </thead>\n",
       "  <tbody>\n",
       "    <tr>\n",
       "      <th>0</th>\n",
       "      <td>holdout</td>\n",
       "      <td>New Conversation Flow</td>\n",
       "      <td>1</td>\n",
       "    </tr>\n",
       "    <tr>\n",
       "      <th>1</th>\n",
       "      <td>holdout</td>\n",
       "      <td>New Conversation Flow</td>\n",
       "      <td>0</td>\n",
       "    </tr>\n",
       "  </tbody>\n",
       "</table>\n",
       "</div>"
      ],
      "text/plain": [
       "  test_group              test_name  booked_at\n",
       "0    holdout  New Conversation Flow          1\n",
       "1    holdout  New Conversation Flow          0"
      ]
     },
     "execution_count": 23,
     "metadata": {},
     "output_type": "execute_result"
    }
   ],
   "source": [
    "# number 1 means conversation booked\n",
    "new_conv_flow.booked_at = new_conv_flow.booked_at*1\n",
    "new_conv_flow.head(2)"
   ]
  },
  {
   "cell_type": "code",
   "execution_count": 24,
   "metadata": {},
   "outputs": [],
   "source": [
    "holdout_mask     = new_conv_flow[new_conv_flow[\"test_group\"] == 'holdout'][\"booked_at\"]\n",
    "variant_mask     = new_conv_flow[new_conv_flow[\"test_group\"] == 'variant'][\"booked_at\"]"
   ]
  },
  {
   "cell_type": "code",
   "execution_count": 25,
   "metadata": {},
   "outputs": [
    {
     "data": {
      "text/plain": [
       "Ttest_indResult(statistic=-8.9244437702831156, pvalue=4.6409650880993761e-19)"
      ]
     },
     "execution_count": 25,
     "metadata": {},
     "output_type": "execute_result"
    }
   ],
   "source": [
    "ttest4 = stats.ttest_ind(holdout_mask, variant_mask)\n",
    "ttest4"
   ]
  },
  {
   "cell_type": "code",
   "execution_count": 26,
   "metadata": {
    "scrolled": true
   },
   "outputs": [
    {
     "data": {
      "text/html": [
       "<div>\n",
       "<table border=\"1\" class=\"dataframe\">\n",
       "  <thead>\n",
       "    <tr style=\"text-align: right;\">\n",
       "      <th></th>\n",
       "      <th>test_group</th>\n",
       "      <th>test_name</th>\n",
       "      <th>booked_at</th>\n",
       "      <th>test_group_hold_bool</th>\n",
       "    </tr>\n",
       "  </thead>\n",
       "  <tbody>\n",
       "    <tr>\n",
       "      <th>0</th>\n",
       "      <td>holdout</td>\n",
       "      <td>New Conversation Flow</td>\n",
       "      <td>1</td>\n",
       "      <td>1</td>\n",
       "    </tr>\n",
       "    <tr>\n",
       "      <th>1</th>\n",
       "      <td>holdout</td>\n",
       "      <td>New Conversation Flow</td>\n",
       "      <td>0</td>\n",
       "      <td>1</td>\n",
       "    </tr>\n",
       "  </tbody>\n",
       "</table>\n",
       "</div>"
      ],
      "text/plain": [
       "  test_group              test_name  booked_at  test_group_hold_bool\n",
       "0    holdout  New Conversation Flow          1                     1\n",
       "1    holdout  New Conversation Flow          0                     1"
      ]
     },
     "execution_count": 26,
     "metadata": {},
     "output_type": "execute_result"
    }
   ],
   "source": [
    "new_conv_flow['test_group_hold_bool'] = new_conv_flow.test_group == 'holdout'\n",
    "\n",
    "new_conv_flow.test_group_hold_bool = new_conv_flow.test_group_hold_bool*1\n",
    "new_conv_flow.head(2)"
   ]
  },
  {
   "cell_type": "code",
   "execution_count": 27,
   "metadata": {},
   "outputs": [],
   "source": [
    "new_holdout_mask     = new_conv_flow[new_conv_flow[\"test_group_hold_bool\"] == 1][\"booked_at\"]\n",
    "new_variant_mask     = new_conv_flow[new_conv_flow[\"test_group_hold_bool\"] == 0][\"booked_at\"]"
   ]
  },
  {
   "cell_type": "code",
   "execution_count": 38,
   "metadata": {},
   "outputs": [
    {
     "data": {
      "text/plain": [
       "0.40069884254203975"
      ]
     },
     "execution_count": 38,
     "metadata": {},
     "output_type": "execute_result"
    }
   ],
   "source": [
    "holdout_mask.mean()"
   ]
  },
  {
   "cell_type": "code",
   "execution_count": 39,
   "metadata": {},
   "outputs": [
    {
     "data": {
      "text/plain": [
       "0.44182903971056187"
      ]
     },
     "execution_count": 39,
     "metadata": {},
     "output_type": "execute_result"
    }
   ],
   "source": [
    "variant_mask.mean()"
   ]
  },
  {
   "cell_type": "markdown",
   "metadata": {},
   "source": [
    "`ttest_ind` tests 2 independent samples to see if they have different means."
   ]
  },
  {
   "cell_type": "code",
   "execution_count": 28,
   "metadata": {},
   "outputs": [
    {
     "data": {
      "text/plain": [
       "Ttest_indResult(statistic=8.9244437702831156, pvalue=4.6409650880993761e-19)"
      ]
     },
     "execution_count": 28,
     "metadata": {},
     "output_type": "execute_result"
    }
   ],
   "source": [
    "ttest3 = stats.ttest_ind(new_variant_mask, new_holdout_mask)\n",
    "ttest3"
   ]
  },
  {
   "cell_type": "code",
   "execution_count": null,
   "metadata": {},
   "outputs": [],
   "source": []
  },
  {
   "cell_type": "markdown",
   "metadata": {},
   "source": [
    "## Analysis:\n",
    "- The calculated pvalue is 4.6409650880993761e-19, which is smaller than 0.05 so I conclude that the difference is not significant."
   ]
  },
  {
   "cell_type": "markdown",
   "metadata": {},
   "source": [
    "## 3. Do you have any reservations about the experiment design? What would you recommend as next steps?"
   ]
  },
  {
   "cell_type": "markdown",
   "metadata": {},
   "source": [
    "### Experiment Design:\n",
    "- I know that owners were randomly selected to be in either group, what about testing providers, does that change booking rate at all?\n",
    "- Find out male/female ratios, any demographic information, ages of users in each sample, ethnicity, location. Are percentages of each sample representative of the universe.\n",
    "- How often are the people selected using the service? Is it their first time, what percentage are regular users, does that number reflect average percentage of regular users.\n",
    "- How accessible is the new interface compared with the old interface, is there reason to believe it is more/less accessible.\n",
    "- Was any of the data weighted to ensure the correct split (eg 50/50 between m/f)\n",
    "- Is the data normally distributed?\n"
   ]
  },
  {
   "cell_type": "code",
   "execution_count": null,
   "metadata": {},
   "outputs": [],
   "source": []
  },
  {
   "cell_type": "code",
   "execution_count": null,
   "metadata": {},
   "outputs": [],
   "source": []
  }
 ],
 "metadata": {
  "kernelspec": {
   "display_name": "Python 3",
   "language": "python",
   "name": "python3"
  },
  "language_info": {
   "codemirror_mode": {
    "name": "ipython",
    "version": 3
   },
   "file_extension": ".py",
   "mimetype": "text/x-python",
   "name": "python",
   "nbconvert_exporter": "python",
   "pygments_lexer": "ipython3",
   "version": "3.6.2"
  }
 },
 "nbformat": 4,
 "nbformat_minor": 2
}
