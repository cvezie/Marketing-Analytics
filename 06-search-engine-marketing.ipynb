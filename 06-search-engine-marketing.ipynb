{
 "cells": [
  {
   "cell_type": "markdown",
   "metadata": {},
   "source": [
    "# [6] Search Engine Marketing\n",
    "\n",
    "Search engine advertising is a huge driver of new user accounts. Users that are aquired through search engine marketing can be identified by looking at people_person.channel . These users will have 'Google' listed there.\n",
    "Historically, this company spent an average of 30 dollars per account to advertise in the 2nd position on Google. However, on 2017-04-12 , they decided to start bidding for the 1st position. Since 2017-04-12 , they have spent $210285 in total."
   ]
  },
  {
   "cell_type": "code",
   "execution_count": 1,
   "metadata": {},
   "outputs": [
    {
     "name": "stdout",
     "output_type": "stream",
     "text": [
      "/home/jovyan/Business_Analytics/Business-Insights-and-Analytics/Marketing_Analytics\n"
     ]
    }
   ],
   "source": [
    "cd .."
   ]
  },
  {
   "cell_type": "code",
   "execution_count": 2,
   "metadata": {},
   "outputs": [],
   "source": [
    "%run __init__.py"
   ]
  },
  {
   "cell_type": "markdown",
   "metadata": {},
   "source": [
    "## 1. For each day, determine the count of users that joined and were acquired through Google. Plot this and confirm there is an inflection point on or near 2017-04-12.\n",
    "\n",
    "a) Group the table by day count the number of people added on each day\n",
    "\n",
    "b) Create a mask to include only the users gained through the Google channel\n",
    "\n",
    "c) Plot the results to show the number of users gained over time, see the inflection point"
   ]
  },
  {
   "cell_type": "code",
   "execution_count": 4,
   "metadata": {},
   "outputs": [],
   "source": [
    "people_person.date_joined = pd.to_datetime(people_person.date_joined)"
   ]
  },
  {
   "cell_type": "code",
   "execution_count": 5,
   "metadata": {},
   "outputs": [],
   "source": [
    "people_person['date'] = people_person.date_joined.dt.date"
   ]
  },
  {
   "cell_type": "code",
   "execution_count": 6,
   "metadata": {},
   "outputs": [
    {
     "data": {
      "text/html": [
       "<div>\n",
       "<table border=\"1\" class=\"dataframe\">\n",
       "  <thead>\n",
       "    <tr style=\"text-align: right;\">\n",
       "      <th></th>\n",
       "      <th>id</th>\n",
       "      <th>first_name</th>\n",
       "      <th>last_name</th>\n",
       "      <th>email</th>\n",
       "      <th>channel</th>\n",
       "      <th>date_joined</th>\n",
       "      <th>photo</th>\n",
       "      <th>fee</th>\n",
       "      <th>gender</th>\n",
       "      <th>date</th>\n",
       "    </tr>\n",
       "  </thead>\n",
       "  <tbody>\n",
       "    <tr>\n",
       "      <th>38804</th>\n",
       "      <td>38805</td>\n",
       "      <td>Harley</td>\n",
       "      <td>Hedrich</td>\n",
       "      <td>harley.hedrich163@yahoo.com</td>\n",
       "      <td>Facebook</td>\n",
       "      <td>2015-11-05 17:18:25.874049</td>\n",
       "      <td>https://placekitten.com/380/267</td>\n",
       "      <td>0.02</td>\n",
       "      <td>m</td>\n",
       "      <td>2015-11-05</td>\n",
       "    </tr>\n",
       "    <tr>\n",
       "      <th>49242</th>\n",
       "      <td>49243</td>\n",
       "      <td>Erica</td>\n",
       "      <td>Benne</td>\n",
       "      <td>erica.benne120@rover.com</td>\n",
       "      <td>WOM</td>\n",
       "      <td>2017-06-17 20:25:33.770773</td>\n",
       "      <td>https://placekitten.com/225/248</td>\n",
       "      <td>0.07</td>\n",
       "      <td>f</td>\n",
       "      <td>2017-06-17</td>\n",
       "    </tr>\n",
       "  </tbody>\n",
       "</table>\n",
       "</div>"
      ],
      "text/plain": [
       "          id first_name last_name                        email   channel  \\\n",
       "38804  38805     Harley   Hedrich  harley.hedrich163@yahoo.com  Facebook   \n",
       "49242  49243      Erica     Benne     erica.benne120@rover.com       WOM   \n",
       "\n",
       "                     date_joined                            photo   fee  \\\n",
       "38804 2015-11-05 17:18:25.874049  https://placekitten.com/380/267  0.02   \n",
       "49242 2017-06-17 20:25:33.770773  https://placekitten.com/225/248  0.07   \n",
       "\n",
       "      gender        date  \n",
       "38804      m  2015-11-05  \n",
       "49242      f  2017-06-17  "
      ]
     },
     "execution_count": 6,
     "metadata": {},
     "output_type": "execute_result"
    }
   ],
   "source": [
    "people_person.sample(2)"
   ]
  },
  {
   "cell_type": "code",
   "execution_count": 7,
   "metadata": {},
   "outputs": [
    {
     "data": {
      "text/html": [
       "<div>\n",
       "<table border=\"1\" class=\"dataframe\">\n",
       "  <thead>\n",
       "    <tr style=\"text-align: right;\">\n",
       "      <th></th>\n",
       "      <th>id</th>\n",
       "      <th>first_name</th>\n",
       "      <th>last_name</th>\n",
       "      <th>email</th>\n",
       "      <th>channel</th>\n",
       "      <th>date_joined</th>\n",
       "      <th>photo</th>\n",
       "      <th>fee</th>\n",
       "      <th>gender</th>\n",
       "      <th>date</th>\n",
       "    </tr>\n",
       "  </thead>\n",
       "  <tbody>\n",
       "    <tr>\n",
       "      <th>100</th>\n",
       "      <td>101</td>\n",
       "      <td>Dara</td>\n",
       "      <td>Lagomarsino</td>\n",
       "      <td>dara.lagomarsino212@rover.com</td>\n",
       "      <td>Google</td>\n",
       "      <td>2017-03-02 03:53:34.338356</td>\n",
       "      <td>https://placekitten.com/284/376</td>\n",
       "      <td>0.07</td>\n",
       "      <td>f</td>\n",
       "      <td>2017-03-02</td>\n",
       "    </tr>\n",
       "    <tr>\n",
       "      <th>106</th>\n",
       "      <td>107</td>\n",
       "      <td>Denny</td>\n",
       "      <td>Prag</td>\n",
       "      <td>denny.prag739@rover.com</td>\n",
       "      <td>Google</td>\n",
       "      <td>2017-03-20 10:13:24.111015</td>\n",
       "      <td>https://placekitten.com/246/236</td>\n",
       "      <td>0.07</td>\n",
       "      <td>m</td>\n",
       "      <td>2017-03-20</td>\n",
       "    </tr>\n",
       "  </tbody>\n",
       "</table>\n",
       "</div>"
      ],
      "text/plain": [
       "      id first_name    last_name                          email channel  \\\n",
       "100  101       Dara  Lagomarsino  dara.lagomarsino212@rover.com  Google   \n",
       "106  107      Denny         Prag        denny.prag739@rover.com  Google   \n",
       "\n",
       "                   date_joined                            photo   fee gender  \\\n",
       "100 2017-03-02 03:53:34.338356  https://placekitten.com/284/376  0.07      f   \n",
       "106 2017-03-20 10:13:24.111015  https://placekitten.com/246/236  0.07      m   \n",
       "\n",
       "           date  \n",
       "100  2017-03-02  \n",
       "106  2017-03-20  "
      ]
     },
     "execution_count": 7,
     "metadata": {},
     "output_type": "execute_result"
    }
   ],
   "source": [
    "google_people = people_person[people_person.channel == 'Google']\n",
    "google_people.head(2)"
   ]
  },
  {
   "cell_type": "code",
   "execution_count": 8,
   "metadata": {},
   "outputs": [],
   "source": [
    "sorted_people = google_people.sort_values('date')"
   ]
  },
  {
   "cell_type": "code",
   "execution_count": 9,
   "metadata": {
    "scrolled": true
   },
   "outputs": [
    {
     "data": {
      "text/html": [
       "<div>\n",
       "<table border=\"1\" class=\"dataframe\">\n",
       "  <thead>\n",
       "    <tr style=\"text-align: right;\">\n",
       "      <th></th>\n",
       "      <th>date</th>\n",
       "      <th>channel</th>\n",
       "    </tr>\n",
       "  </thead>\n",
       "  <tbody>\n",
       "    <tr>\n",
       "      <th>0</th>\n",
       "      <td>2015-07-16</td>\n",
       "      <td>1</td>\n",
       "    </tr>\n",
       "    <tr>\n",
       "      <th>1</th>\n",
       "      <td>2015-07-17</td>\n",
       "      <td>1</td>\n",
       "    </tr>\n",
       "  </tbody>\n",
       "</table>\n",
       "</div>"
      ],
      "text/plain": [
       "         date  channel\n",
       "0  2015-07-16        1\n",
       "1  2015-07-17        1"
      ]
     },
     "execution_count": 9,
     "metadata": {},
     "output_type": "execute_result"
    }
   ],
   "source": [
    "counts_people = sorted_people.groupby(['date'], as_index=False).channel.count()\n",
    "counts_people.head(2)"
   ]
  },
  {
   "cell_type": "code",
   "execution_count": 10,
   "metadata": {},
   "outputs": [
    {
     "data": {
      "text/plain": [
       "(datetime.date(2015, 7, 16), datetime.date(2017, 7, 10))"
      ]
     },
     "execution_count": 10,
     "metadata": {},
     "output_type": "execute_result"
    }
   ],
   "source": [
    "counts_people.date.min(), counts_people.date.max() # checking that the dates are all included"
   ]
  },
  {
   "cell_type": "code",
   "execution_count": 11,
   "metadata": {
    "scrolled": false
   },
   "outputs": [
    {
     "data": {
      "image/png": "[encoded data removed]",
      "text/plain": [
       "<matplotlib.figure.Figure at 0x7fbef926e4a8>"
      ]
     },
     "metadata": {},
     "output_type": "display_data"
    }
   ],
   "source": [
    "# defining terms for x and y axis\n",
    "x = counts_people.date\n",
    "y = counts_people.channel\n",
    "\n",
    "# instantiating plot and plotting.\n",
    "fig = plt.figure(figsize=(15,10))\n",
    "plt.plot(x,y)\n",
    "\n",
    "fig.autofmt_xdate()\n",
    "plt.title('Number of Google Users Joining Site', fontsize=16)\n",
    "plt.xlabel('Day Users Joined Site', fontsize=12)\n",
    "plt.ylabel('Number of Google Users Joined', fontsize=12)\n",
    "plt.show()"
   ]
  },
  {
   "cell_type": "markdown",
   "metadata": {},
   "source": [
    "## 2. How many users were acquired via Google advertising since 2017-04-12 and what was the average cost per account?\n",
    "\n",
    "\n",
    "### Number of users acquired via google since 2017-04-12: \n",
    "- 4673\n",
    "\n",
    "### Average cost per account: \n",
    "- $45\n",
    "\n",
    "a) Create a mask to include only the people gained through the Google channel after the date 2017-04-12\n",
    "\n",
    "b) Count the number of people\n",
    "\n",
    "c) Divide the total spending by the count of the number of people gained post new marketing strategy"
   ]
  },
  {
   "cell_type": "code",
   "execution_count": 12,
   "metadata": {
    "scrolled": true
   },
   "outputs": [
    {
     "data": {
      "text/html": [
       "<div>\n",
       "<table border=\"1\" class=\"dataframe\">\n",
       "  <thead>\n",
       "    <tr style=\"text-align: right;\">\n",
       "      <th></th>\n",
       "      <th>id</th>\n",
       "      <th>first_name</th>\n",
       "      <th>last_name</th>\n",
       "      <th>email</th>\n",
       "      <th>channel</th>\n",
       "      <th>date_joined</th>\n",
       "      <th>photo</th>\n",
       "      <th>fee</th>\n",
       "      <th>gender</th>\n",
       "      <th>date</th>\n",
       "    </tr>\n",
       "  </thead>\n",
       "  <tbody>\n",
       "    <tr>\n",
       "      <th>0</th>\n",
       "      <td>1</td>\n",
       "      <td>Meaghan</td>\n",
       "      <td>Lapete</td>\n",
       "      <td>meaghan.lapete820@aol.com</td>\n",
       "      <td>NaN</td>\n",
       "      <td>2015-07-12 15:13:16.673652</td>\n",
       "      <td>https://placekitten.com/360/208</td>\n",
       "      <td>0.0</td>\n",
       "      <td>f</td>\n",
       "      <td>2015-07-12</td>\n",
       "    </tr>\n",
       "    <tr>\n",
       "      <th>1</th>\n",
       "      <td>2</td>\n",
       "      <td>Aracelis</td>\n",
       "      <td>Luhr</td>\n",
       "      <td>aracelis.luhr844@rover.com</td>\n",
       "      <td>NaN</td>\n",
       "      <td>2015-07-12 13:44:21.949482</td>\n",
       "      <td>https://placekitten.com/392/227</td>\n",
       "      <td>0.0</td>\n",
       "      <td>f</td>\n",
       "      <td>2015-07-12</td>\n",
       "    </tr>\n",
       "  </tbody>\n",
       "</table>\n",
       "</div>"
      ],
      "text/plain": [
       "   id first_name last_name                       email channel  \\\n",
       "0   1    Meaghan    Lapete   meaghan.lapete820@aol.com     NaN   \n",
       "1   2   Aracelis      Luhr  aracelis.luhr844@rover.com     NaN   \n",
       "\n",
       "                 date_joined                            photo  fee gender  \\\n",
       "0 2015-07-12 15:13:16.673652  https://placekitten.com/360/208  0.0      f   \n",
       "1 2015-07-12 13:44:21.949482  https://placekitten.com/392/227  0.0      f   \n",
       "\n",
       "         date  \n",
       "0  2015-07-12  \n",
       "1  2015-07-12  "
      ]
     },
     "execution_count": 12,
     "metadata": {},
     "output_type": "execute_result"
    }
   ],
   "source": [
    "people_person.head(2)"
   ]
  },
  {
   "cell_type": "code",
   "execution_count": 13,
   "metadata": {},
   "outputs": [
    {
     "data": {
      "text/html": [
       "<div>\n",
       "<table border=\"1\" class=\"dataframe\">\n",
       "  <thead>\n",
       "    <tr style=\"text-align: right;\">\n",
       "      <th></th>\n",
       "      <th>id</th>\n",
       "      <th>first_name</th>\n",
       "      <th>last_name</th>\n",
       "      <th>email</th>\n",
       "      <th>channel</th>\n",
       "      <th>date_joined</th>\n",
       "      <th>photo</th>\n",
       "      <th>fee</th>\n",
       "      <th>gender</th>\n",
       "      <th>date</th>\n",
       "    </tr>\n",
       "  </thead>\n",
       "  <tbody>\n",
       "    <tr>\n",
       "      <th>0</th>\n",
       "      <td>1</td>\n",
       "      <td>Meaghan</td>\n",
       "      <td>Lapete</td>\n",
       "      <td>meaghan.lapete820@aol.com</td>\n",
       "      <td>NaN</td>\n",
       "      <td>2015-07-12 15:13:16.673652</td>\n",
       "      <td>https://placekitten.com/360/208</td>\n",
       "      <td>0.0</td>\n",
       "      <td>f</td>\n",
       "      <td>2015-07-12</td>\n",
       "    </tr>\n",
       "    <tr>\n",
       "      <th>1</th>\n",
       "      <td>2</td>\n",
       "      <td>Aracelis</td>\n",
       "      <td>Luhr</td>\n",
       "      <td>aracelis.luhr844@rover.com</td>\n",
       "      <td>NaN</td>\n",
       "      <td>2015-07-12 13:44:21.949482</td>\n",
       "      <td>https://placekitten.com/392/227</td>\n",
       "      <td>0.0</td>\n",
       "      <td>f</td>\n",
       "      <td>2015-07-12</td>\n",
       "    </tr>\n",
       "  </tbody>\n",
       "</table>\n",
       "</div>"
      ],
      "text/plain": [
       "   id first_name last_name                       email channel  \\\n",
       "0   1    Meaghan    Lapete   meaghan.lapete820@aol.com     NaN   \n",
       "1   2   Aracelis      Luhr  aracelis.luhr844@rover.com     NaN   \n",
       "\n",
       "                 date_joined                            photo  fee gender  \\\n",
       "0 2015-07-12 15:13:16.673652  https://placekitten.com/360/208  0.0      f   \n",
       "1 2015-07-12 13:44:21.949482  https://placekitten.com/392/227  0.0      f   \n",
       "\n",
       "         date  \n",
       "0  2015-07-12  \n",
       "1  2015-07-12  "
      ]
     },
     "execution_count": 13,
     "metadata": {},
     "output_type": "execute_result"
    }
   ],
   "source": [
    "people_person.date_joined = pd.to_datetime(people_person.date_joined)\n",
    "people_person['date'] = people_person['date_joined'].dt.date\n",
    "people_person.head(2)"
   ]
  },
  {
   "cell_type": "code",
   "execution_count": 14,
   "metadata": {
    "scrolled": true
   },
   "outputs": [],
   "source": [
    "people_person.date = people_person.date.astype('str')"
   ]
  },
  {
   "cell_type": "code",
   "execution_count": 15,
   "metadata": {},
   "outputs": [],
   "source": [
    "date_mask = people_person.date >= '2017-04-12'"
   ]
  },
  {
   "cell_type": "code",
   "execution_count": 16,
   "metadata": {},
   "outputs": [
    {
     "data": {
      "text/html": [
       "<div>\n",
       "<table border=\"1\" class=\"dataframe\">\n",
       "  <thead>\n",
       "    <tr style=\"text-align: right;\">\n",
       "      <th></th>\n",
       "      <th>id</th>\n",
       "      <th>first_name</th>\n",
       "      <th>last_name</th>\n",
       "      <th>email</th>\n",
       "      <th>channel</th>\n",
       "      <th>date_joined</th>\n",
       "      <th>photo</th>\n",
       "      <th>fee</th>\n",
       "      <th>gender</th>\n",
       "      <th>date</th>\n",
       "    </tr>\n",
       "  </thead>\n",
       "  <tbody>\n",
       "    <tr>\n",
       "      <th>107</th>\n",
       "      <td>108</td>\n",
       "      <td>Albertina</td>\n",
       "      <td>Beker</td>\n",
       "      <td>albertina.beker769@gmail.com</td>\n",
       "      <td>Facebook</td>\n",
       "      <td>2017-05-03 21:10:03.956132</td>\n",
       "      <td>https://placekitten.com/314/305</td>\n",
       "      <td>0.07</td>\n",
       "      <td>f</td>\n",
       "      <td>2017-05-03</td>\n",
       "    </tr>\n",
       "    <tr>\n",
       "      <th>108</th>\n",
       "      <td>109</td>\n",
       "      <td>Korey</td>\n",
       "      <td>Shamburger</td>\n",
       "      <td>korey.shamburger336@aol.com</td>\n",
       "      <td>Yelp</td>\n",
       "      <td>2017-05-08 19:04:33.257611</td>\n",
       "      <td>https://placekitten.com/373/344</td>\n",
       "      <td>0.07</td>\n",
       "      <td>m</td>\n",
       "      <td>2017-05-08</td>\n",
       "    </tr>\n",
       "  </tbody>\n",
       "</table>\n",
       "</div>"
      ],
      "text/plain": [
       "      id first_name   last_name                         email   channel  \\\n",
       "107  108  Albertina       Beker  albertina.beker769@gmail.com  Facebook   \n",
       "108  109      Korey  Shamburger   korey.shamburger336@aol.com      Yelp   \n",
       "\n",
       "                   date_joined                            photo   fee gender  \\\n",
       "107 2017-05-03 21:10:03.956132  https://placekitten.com/314/305  0.07      f   \n",
       "108 2017-05-08 19:04:33.257611  https://placekitten.com/373/344  0.07      m   \n",
       "\n",
       "           date  \n",
       "107  2017-05-03  \n",
       "108  2017-05-08  "
      ]
     },
     "execution_count": 16,
     "metadata": {},
     "output_type": "execute_result"
    }
   ],
   "source": [
    "people_post_google = people_person[date_mask]\n",
    "people_post_google.head(2)"
   ]
  },
  {
   "cell_type": "code",
   "execution_count": 17,
   "metadata": {},
   "outputs": [
    {
     "data": {
      "text/html": [
       "<div>\n",
       "<table border=\"1\" class=\"dataframe\">\n",
       "  <thead>\n",
       "    <tr style=\"text-align: right;\">\n",
       "      <th></th>\n",
       "      <th>id</th>\n",
       "      <th>first_name</th>\n",
       "      <th>last_name</th>\n",
       "      <th>email</th>\n",
       "      <th>channel</th>\n",
       "      <th>date_joined</th>\n",
       "      <th>photo</th>\n",
       "      <th>fee</th>\n",
       "      <th>gender</th>\n",
       "      <th>date</th>\n",
       "    </tr>\n",
       "  </thead>\n",
       "  <tbody>\n",
       "    <tr>\n",
       "      <th>16985</th>\n",
       "      <td>16986</td>\n",
       "      <td>Adell</td>\n",
       "      <td>Connelly</td>\n",
       "      <td>adell.connelly302@yahoo.com</td>\n",
       "      <td>Google</td>\n",
       "      <td>2017-04-12 07:43:44.305879</td>\n",
       "      <td>https://placekitten.com/277/202</td>\n",
       "      <td>0.07</td>\n",
       "      <td>f</td>\n",
       "      <td>2017-04-12</td>\n",
       "    </tr>\n",
       "    <tr>\n",
       "      <th>43124</th>\n",
       "      <td>43125</td>\n",
       "      <td>Karina</td>\n",
       "      <td>Conniff</td>\n",
       "      <td>karina.conniff603@hotmail.com</td>\n",
       "      <td>Google</td>\n",
       "      <td>2017-04-12 10:56:58.034227</td>\n",
       "      <td>https://placekitten.com/357/344</td>\n",
       "      <td>0.07</td>\n",
       "      <td>f</td>\n",
       "      <td>2017-04-12</td>\n",
       "    </tr>\n",
       "    <tr>\n",
       "      <th>13964</th>\n",
       "      <td>13965</td>\n",
       "      <td>Emmitt</td>\n",
       "      <td>Lalli</td>\n",
       "      <td>emmitt.lalli110@aol.com</td>\n",
       "      <td>Google</td>\n",
       "      <td>2017-04-12 23:02:55.038123</td>\n",
       "      <td>https://placekitten.com/354/306</td>\n",
       "      <td>0.07</td>\n",
       "      <td>m</td>\n",
       "      <td>2017-04-12</td>\n",
       "    </tr>\n",
       "    <tr>\n",
       "      <th>51298</th>\n",
       "      <td>51299</td>\n",
       "      <td>Josette</td>\n",
       "      <td>Lehar</td>\n",
       "      <td>josette.lehar832@yahoo.com</td>\n",
       "      <td>Google</td>\n",
       "      <td>2017-04-12 19:28:07.758676</td>\n",
       "      <td>https://placekitten.com/357/268</td>\n",
       "      <td>0.07</td>\n",
       "      <td>f</td>\n",
       "      <td>2017-04-12</td>\n",
       "    </tr>\n",
       "    <tr>\n",
       "      <th>36424</th>\n",
       "      <td>36425</td>\n",
       "      <td>Clair</td>\n",
       "      <td>Cabrera</td>\n",
       "      <td>clair.cabrera517@aol.com</td>\n",
       "      <td>Google</td>\n",
       "      <td>2017-04-12 09:24:43.099485</td>\n",
       "      <td>https://placekitten.com/287/213</td>\n",
       "      <td>0.07</td>\n",
       "      <td>m</td>\n",
       "      <td>2017-04-12</td>\n",
       "    </tr>\n",
       "  </tbody>\n",
       "</table>\n",
       "</div>"
      ],
      "text/plain": [
       "          id first_name last_name                          email channel  \\\n",
       "16985  16986      Adell  Connelly    adell.connelly302@yahoo.com  Google   \n",
       "43124  43125     Karina   Conniff  karina.conniff603@hotmail.com  Google   \n",
       "13964  13965     Emmitt     Lalli        emmitt.lalli110@aol.com  Google   \n",
       "51298  51299    Josette     Lehar     josette.lehar832@yahoo.com  Google   \n",
       "36424  36425      Clair   Cabrera       clair.cabrera517@aol.com  Google   \n",
       "\n",
       "                     date_joined                            photo   fee  \\\n",
       "16985 2017-04-12 07:43:44.305879  https://placekitten.com/277/202  0.07   \n",
       "43124 2017-04-12 10:56:58.034227  https://placekitten.com/357/344  0.07   \n",
       "13964 2017-04-12 23:02:55.038123  https://placekitten.com/354/306  0.07   \n",
       "51298 2017-04-12 19:28:07.758676  https://placekitten.com/357/268  0.07   \n",
       "36424 2017-04-12 09:24:43.099485  https://placekitten.com/287/213  0.07   \n",
       "\n",
       "      gender        date  \n",
       "16985      f  2017-04-12  \n",
       "43124      f  2017-04-12  \n",
       "13964      m  2017-04-12  \n",
       "51298      f  2017-04-12  \n",
       "36424      m  2017-04-12  "
      ]
     },
     "execution_count": 17,
     "metadata": {},
     "output_type": "execute_result"
    }
   ],
   "source": [
    "count_people_post_google = people_post_google[people_post_google.channel == 'Google'].sort_values(by='date')\n",
    "count_people_post_google.head()"
   ]
  },
  {
   "cell_type": "code",
   "execution_count": 18,
   "metadata": {},
   "outputs": [
    {
     "data": {
      "text/plain": [
       "4673"
      ]
     },
     "execution_count": 18,
     "metadata": {},
     "output_type": "execute_result"
    }
   ],
   "source": [
    "number_people_google = count_people_post_google.gender.count()\n",
    "number_people_google"
   ]
  },
  {
   "cell_type": "code",
   "execution_count": 19,
   "metadata": {},
   "outputs": [
    {
     "data": {
      "text/plain": [
       "45.0"
      ]
     },
     "execution_count": 19,
     "metadata": {},
     "output_type": "execute_result"
    }
   ],
   "source": [
    "spending_per_account = 210285 / number_people_google\n",
    "spending_per_account"
   ]
  },
  {
   "cell_type": "markdown",
   "metadata": {},
   "source": [
    "## 3. Estimate how many users would have been acquired had the company not changed its bidding strategy. What would have been the marketing spend in that case?\n",
    "\n",
    "### Estimation New Users: \n",
    "- 1363\n",
    "\n",
    "### Marketing Spend: \n",
    "- $ 40877\n",
    "\n",
    "a) Create a mask for users before new strategy went into place, 2017-04-12\n",
    "\n",
    "b) Count the number of people\n",
    "\n",
    "c) Calculate the average number of new users per day\n",
    "\n",
    "d) Multiply the average number of new users per day by 90 (the number of days the new strategy has been implemented)\n",
    "\n",
    "e) Multiple the number of new users by 30 (the average spend per new account before the new marketing strategy went into place)"
   ]
  },
  {
   "cell_type": "code",
   "execution_count": 20,
   "metadata": {},
   "outputs": [],
   "source": [
    "estimation_mask = people_person.date < '2017-04-12'"
   ]
  },
  {
   "cell_type": "code",
   "execution_count": 21,
   "metadata": {},
   "outputs": [
    {
     "data": {
      "text/html": [
       "<div>\n",
       "<table border=\"1\" class=\"dataframe\">\n",
       "  <thead>\n",
       "    <tr style=\"text-align: right;\">\n",
       "      <th></th>\n",
       "      <th>id</th>\n",
       "      <th>first_name</th>\n",
       "      <th>last_name</th>\n",
       "      <th>email</th>\n",
       "      <th>channel</th>\n",
       "      <th>date_joined</th>\n",
       "      <th>photo</th>\n",
       "      <th>fee</th>\n",
       "      <th>gender</th>\n",
       "      <th>date</th>\n",
       "    </tr>\n",
       "  </thead>\n",
       "  <tbody>\n",
       "    <tr>\n",
       "      <th>0</th>\n",
       "      <td>1</td>\n",
       "      <td>Meaghan</td>\n",
       "      <td>Lapete</td>\n",
       "      <td>meaghan.lapete820@aol.com</td>\n",
       "      <td>NaN</td>\n",
       "      <td>2015-07-12 15:13:16.673652</td>\n",
       "      <td>https://placekitten.com/360/208</td>\n",
       "      <td>0.0</td>\n",
       "      <td>f</td>\n",
       "      <td>2015-07-12</td>\n",
       "    </tr>\n",
       "    <tr>\n",
       "      <th>1</th>\n",
       "      <td>2</td>\n",
       "      <td>Aracelis</td>\n",
       "      <td>Luhr</td>\n",
       "      <td>aracelis.luhr844@rover.com</td>\n",
       "      <td>NaN</td>\n",
       "      <td>2015-07-12 13:44:21.949482</td>\n",
       "      <td>https://placekitten.com/392/227</td>\n",
       "      <td>0.0</td>\n",
       "      <td>f</td>\n",
       "      <td>2015-07-12</td>\n",
       "    </tr>\n",
       "  </tbody>\n",
       "</table>\n",
       "</div>"
      ],
      "text/plain": [
       "   id first_name last_name                       email channel  \\\n",
       "0   1    Meaghan    Lapete   meaghan.lapete820@aol.com     NaN   \n",
       "1   2   Aracelis      Luhr  aracelis.luhr844@rover.com     NaN   \n",
       "\n",
       "                 date_joined                            photo  fee gender  \\\n",
       "0 2015-07-12 15:13:16.673652  https://placekitten.com/360/208  0.0      f   \n",
       "1 2015-07-12 13:44:21.949482  https://placekitten.com/392/227  0.0      f   \n",
       "\n",
       "         date  \n",
       "0  2015-07-12  \n",
       "1  2015-07-12  "
      ]
     },
     "execution_count": 21,
     "metadata": {},
     "output_type": "execute_result"
    }
   ],
   "source": [
    "estimation_count_people = people_person[estimation_mask]\n",
    "estimation_count_people.head(2)"
   ]
  },
  {
   "cell_type": "code",
   "execution_count": 22,
   "metadata": {},
   "outputs": [
    {
     "data": {
      "text/html": [
       "<div>\n",
       "<table border=\"1\" class=\"dataframe\">\n",
       "  <thead>\n",
       "    <tr style=\"text-align: right;\">\n",
       "      <th></th>\n",
       "      <th>id</th>\n",
       "      <th>first_name</th>\n",
       "      <th>last_name</th>\n",
       "      <th>email</th>\n",
       "      <th>channel</th>\n",
       "      <th>date_joined</th>\n",
       "      <th>photo</th>\n",
       "      <th>fee</th>\n",
       "      <th>gender</th>\n",
       "      <th>date</th>\n",
       "    </tr>\n",
       "  </thead>\n",
       "  <tbody>\n",
       "    <tr>\n",
       "      <th>29616</th>\n",
       "      <td>29617</td>\n",
       "      <td>Chris</td>\n",
       "      <td>Willetts</td>\n",
       "      <td>chris.willetts250@hotmail.com</td>\n",
       "      <td>Google</td>\n",
       "      <td>2015-07-16 15:11:49.047635</td>\n",
       "      <td>https://placekitten.com/298/283</td>\n",
       "      <td>0.02</td>\n",
       "      <td>m</td>\n",
       "      <td>2015-07-16</td>\n",
       "    </tr>\n",
       "    <tr>\n",
       "      <th>47404</th>\n",
       "      <td>47405</td>\n",
       "      <td>Arnita</td>\n",
       "      <td>Veenstra</td>\n",
       "      <td>arnita.veenstra249@aol.com</td>\n",
       "      <td>Google</td>\n",
       "      <td>2015-07-17 08:14:24.569700</td>\n",
       "      <td>https://placekitten.com/389/371</td>\n",
       "      <td>0.02</td>\n",
       "      <td>f</td>\n",
       "      <td>2015-07-17</td>\n",
       "    </tr>\n",
       "    <tr>\n",
       "      <th>13472</th>\n",
       "      <td>13473</td>\n",
       "      <td>Ruben</td>\n",
       "      <td>Cohick</td>\n",
       "      <td>ruben.cohick941@yahoo.com</td>\n",
       "      <td>Google</td>\n",
       "      <td>2015-07-25 15:20:39.575314</td>\n",
       "      <td>https://placekitten.com/236/359</td>\n",
       "      <td>0.02</td>\n",
       "      <td>m</td>\n",
       "      <td>2015-07-25</td>\n",
       "    </tr>\n",
       "    <tr>\n",
       "      <th>20014</th>\n",
       "      <td>20015</td>\n",
       "      <td>Deon</td>\n",
       "      <td>Mccain</td>\n",
       "      <td>deon.mccain616@aol.com</td>\n",
       "      <td>Google</td>\n",
       "      <td>2015-07-26 22:59:14.543321</td>\n",
       "      <td>https://placekitten.com/251/305</td>\n",
       "      <td>0.02</td>\n",
       "      <td>f</td>\n",
       "      <td>2015-07-26</td>\n",
       "    </tr>\n",
       "    <tr>\n",
       "      <th>45623</th>\n",
       "      <td>45624</td>\n",
       "      <td>Eli</td>\n",
       "      <td>Lewin</td>\n",
       "      <td>eli.lewin448@yahoo.com</td>\n",
       "      <td>Google</td>\n",
       "      <td>2015-07-27 01:09:42.950760</td>\n",
       "      <td>https://placekitten.com/385/296</td>\n",
       "      <td>0.02</td>\n",
       "      <td>m</td>\n",
       "      <td>2015-07-27</td>\n",
       "    </tr>\n",
       "  </tbody>\n",
       "</table>\n",
       "</div>"
      ],
      "text/plain": [
       "          id first_name last_name                          email channel  \\\n",
       "29616  29617      Chris  Willetts  chris.willetts250@hotmail.com  Google   \n",
       "47404  47405     Arnita  Veenstra     arnita.veenstra249@aol.com  Google   \n",
       "13472  13473      Ruben    Cohick      ruben.cohick941@yahoo.com  Google   \n",
       "20014  20015       Deon    Mccain         deon.mccain616@aol.com  Google   \n",
       "45623  45624        Eli     Lewin         eli.lewin448@yahoo.com  Google   \n",
       "\n",
       "                     date_joined                            photo   fee  \\\n",
       "29616 2015-07-16 15:11:49.047635  https://placekitten.com/298/283  0.02   \n",
       "47404 2015-07-17 08:14:24.569700  https://placekitten.com/389/371  0.02   \n",
       "13472 2015-07-25 15:20:39.575314  https://placekitten.com/236/359  0.02   \n",
       "20014 2015-07-26 22:59:14.543321  https://placekitten.com/251/305  0.02   \n",
       "45623 2015-07-27 01:09:42.950760  https://placekitten.com/385/296  0.02   \n",
       "\n",
       "      gender        date  \n",
       "29616      m  2015-07-16  \n",
       "47404      f  2015-07-17  \n",
       "13472      m  2015-07-25  \n",
       "20014      f  2015-07-26  \n",
       "45623      m  2015-07-27  "
      ]
     },
     "execution_count": 22,
     "metadata": {},
     "output_type": "execute_result"
    }
   ],
   "source": [
    "estimation_google_count = estimation_count_people[estimation_count_people.channel == 'Google'].sort_values(by='date')\n",
    "estimation_google_count.head()"
   ]
  },
  {
   "cell_type": "code",
   "execution_count": 23,
   "metadata": {},
   "outputs": [
    {
     "data": {
      "text/plain": [
       "9644"
      ]
     },
     "execution_count": 23,
     "metadata": {},
     "output_type": "execute_result"
    }
   ],
   "source": [
    "# the number of users that joined in the time period before the switch. divide by the number of days to see\n",
    "# what the average per day of new users joining.\n",
    "estimation_pre = estimation_google_count.gender.count()\n",
    "estimation_pre"
   ]
  },
  {
   "cell_type": "code",
   "execution_count": 24,
   "metadata": {},
   "outputs": [
    {
     "data": {
      "text/plain": [
       "datetime.datetime(2015, 7, 16, 0, 0)"
      ]
     },
     "execution_count": 24,
     "metadata": {},
     "output_type": "execute_result"
    }
   ],
   "source": [
    "start_date = estimation_google_count.date.min()\n",
    "start_date = datetime.strptime('2015/7/16', \"%Y/%m/%d\")\n",
    "start_date"
   ]
  },
  {
   "cell_type": "code",
   "execution_count": 25,
   "metadata": {},
   "outputs": [
    {
     "data": {
      "text/plain": [
       "datetime.datetime(2017, 4, 12, 0, 0)"
      ]
     },
     "execution_count": 25,
     "metadata": {},
     "output_type": "execute_result"
    }
   ],
   "source": [
    "change_date = datetime(2017,4,12)\n",
    "change_date"
   ]
  },
  {
   "cell_type": "code",
   "execution_count": 26,
   "metadata": {
    "scrolled": true
   },
   "outputs": [
    {
     "data": {
      "text/plain": [
       "datetime.timedelta(636)"
      ]
     },
     "execution_count": 26,
     "metadata": {},
     "output_type": "execute_result"
    }
   ],
   "source": [
    "time_diff = change_date - start_date\n",
    "time_diff"
   ]
  },
  {
   "cell_type": "code",
   "execution_count": 27,
   "metadata": {},
   "outputs": [
    {
     "data": {
      "text/plain": [
       "15.13971742543171"
      ]
     },
     "execution_count": 27,
     "metadata": {},
     "output_type": "execute_result"
    }
   ],
   "source": [
    "# add 1 to the time diff to include the end date\n",
    "avg_new_users_pre = 9644 / 637\n",
    "avg_new_users_pre"
   ]
  },
  {
   "cell_type": "code",
   "execution_count": 34,
   "metadata": {},
   "outputs": [
    {
     "data": {
      "text/plain": [
       "1362.574568288854"
      ]
     },
     "execution_count": 34,
     "metadata": {},
     "output_type": "execute_result"
    }
   ],
   "source": [
    "# 90 is the number of days post new marketing strategy\n",
    "estimation_new_users = avg_new_users_pre * 90\n",
    "estimation_new_users"
   ]
  },
  {
   "cell_type": "code",
   "execution_count": 29,
   "metadata": {},
   "outputs": [
    {
     "data": {
      "text/plain": [
       "40877.237048665615"
      ]
     },
     "execution_count": 29,
     "metadata": {},
     "output_type": "execute_result"
    }
   ],
   "source": [
    "# 30 is the dollar amount that was spent per account pre change in marketing strategy\n",
    "estimation_marketing_spend = estimation_new_users * 30\n",
    "estimation_marketing_spend"
   ]
  },
  {
   "cell_type": "markdown",
   "metadata": {},
   "source": [
    "## 4. How many additional accounts where created? What was the marginal cost per account for these additional accounts?\n",
    "#### Additional accounts: 3310\n",
    "#### Marginal cost per account: $51\n",
    "\n",
    "$$Marginal Cost = \\frac{Change in Total Cost}{Change in Quantity}$$\n",
    "\n",
    "a) Calculate additional accounts by subtracting the estimation of new users by the actual number of new users joined\n",
    "\n",
    "b) Calculate marginal cost by dividing the difference in price spending by the number of new accounts created"
   ]
  },
  {
   "cell_type": "code",
   "execution_count": 32,
   "metadata": {},
   "outputs": [
    {
     "data": {
      "text/plain": [
       "3310.4254317111463"
      ]
     },
     "execution_count": 32,
     "metadata": {},
     "output_type": "execute_result"
    }
   ],
   "source": [
    "additional_accounts = number_people_google - estimation_new_users\n",
    "additional_accounts"
   ]
  },
  {
   "cell_type": "code",
   "execution_count": 33,
   "metadata": {},
   "outputs": [
    {
     "data": {
      "text/plain": [
       "51.174015680446288"
      ]
     },
     "execution_count": 33,
     "metadata": {},
     "output_type": "execute_result"
    }
   ],
   "source": [
    "(210285 - estimation_marketing_spend) / additional_accounts"
   ]
  },
  {
   "cell_type": "markdown",
   "metadata": {},
   "source": [
    "#### To explore further, what is the net profit for the company after the marketing strategy changed, is it more than the marginal cost?"
   ]
  },
  {
   "cell_type": "markdown",
   "metadata": {},
   "source": [
    "# Further Analysis on Project\n",
    "\n",
    "- What is the net profit for the company after the marketing strategy changed, is it more than the marginal cost?\n",
    "- User retention: are a significant number of users leaving the site?\n",
    "- Is the booking rate and take rate constant across locations? Are there locations with higher net profit, booking rate, and take rate?\n",
    "- What percentage of providers are using this service as their soul source of income?\n",
    "- What percentage of new users come from Google compared to the percentage of new users that come via another means?\n"
   ]
  },
  {
   "cell_type": "code",
   "execution_count": null,
   "metadata": {},
   "outputs": [],
   "source": []
  }
 ],
 "metadata": {
  "kernelspec": {
   "display_name": "Python 3",
   "language": "python",
   "name": "python3"
  },
  "language_info": {
   "codemirror_mode": {
    "name": "ipython",
    "version": 3
   },
   "file_extension": ".py",
   "mimetype": "text/x-python",
   "name": "python",
   "nbconvert_exporter": "python",
   "pygments_lexer": "ipython3",
   "version": "3.6.2"
  }
 },
 "nbformat": 4,
 "nbformat_minor": 2
}
