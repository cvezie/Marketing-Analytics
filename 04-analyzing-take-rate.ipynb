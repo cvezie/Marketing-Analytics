{
 "cells": [
  {
   "cell_type": "markdown",
   "metadata": {},
   "source": [
    "# [4] Analyzing Take Rate"
   ]
  },
  {
   "cell_type": "code",
   "execution_count": 1,
   "metadata": {},
   "outputs": [
    {
     "name": "stdout",
     "output_type": "stream",
     "text": [
      "/home/jovyan/Business_Analytics/Business-Insights-and-Analytics/Marketing_Analytics\n"
     ]
    }
   ],
   "source": [
    "cd .."
   ]
  },
  {
   "cell_type": "code",
   "execution_count": 2,
   "metadata": {},
   "outputs": [],
   "source": [
    "%run __init__.py\n",
    "%matplotlib inline"
   ]
  },
  {
   "cell_type": "markdown",
   "metadata": {},
   "source": [
    "## 1. In each month, what were the gross billings and net revenue?\n",
    "a) Run SQL query to pull the booking information from the `services_service` table and the owner fee information from the `people_person` table\n",
    "\n",
    "b) Calculate `gross_billings` and `net_revenue` using `owner_fee`, `service_fee` and `price_per_unit`\n",
    "\n",
    "c) Group table by Month and Order by month, year to show the gross billings and the net revenue in each month"
   ]
  },
  {
   "cell_type": "code",
   "execution_count": 3,
   "metadata": {},
   "outputs": [],
   "source": [
    "query_billings = ('SELECT p.fee AS owner_fee, s.added AS date_service_active, s.fee AS service_fee, s.price AS price_per_unit \\\n",
    "                   FROM services_service s \\\n",
    "                   JOIN people_person p \\\n",
    "                   ON (s.provider_id = p.id);')\n",
    "\n",
    "conn = sqlite3.connect('db26.sqlite3')"
   ]
  },
  {
   "cell_type": "code",
   "execution_count": 4,
   "metadata": {},
   "outputs": [
    {
     "data": {
      "text/html": [
       "<div>\n",
       "<table border=\"1\" class=\"dataframe\">\n",
       "  <thead>\n",
       "    <tr style=\"text-align: right;\">\n",
       "      <th></th>\n",
       "      <th>owner_fee</th>\n",
       "      <th>date_service_active</th>\n",
       "      <th>service_fee</th>\n",
       "      <th>price_per_unit</th>\n",
       "    </tr>\n",
       "  </thead>\n",
       "  <tbody>\n",
       "    <tr>\n",
       "      <th>2940</th>\n",
       "      <td>0.07</td>\n",
       "      <td>2017-05-24 06:37:14.797806</td>\n",
       "      <td>0.2</td>\n",
       "      <td>30</td>\n",
       "    </tr>\n",
       "    <tr>\n",
       "      <th>4706</th>\n",
       "      <td>0.07</td>\n",
       "      <td>2017-03-27 08:30:46.762638</td>\n",
       "      <td>0.2</td>\n",
       "      <td>39</td>\n",
       "    </tr>\n",
       "  </tbody>\n",
       "</table>\n",
       "</div>"
      ],
      "text/plain": [
       "      owner_fee         date_service_active  service_fee  price_per_unit\n",
       "2940       0.07  2017-05-24 06:37:14.797806          0.2              30\n",
       "4706       0.07  2017-03-27 08:30:46.762638          0.2              39"
      ]
     },
     "execution_count": 4,
     "metadata": {},
     "output_type": "execute_result"
    }
   ],
   "source": [
    "billings_df = pd.read_sql_query(query_billings, conn)\n",
    "billings_df.sample(2)"
   ]
  },
  {
   "cell_type": "code",
   "execution_count": 5,
   "metadata": {},
   "outputs": [],
   "source": [
    "# convert each column to datetime format\n",
    "billings_df['date_service_active']  = pd.to_datetime(billings_df['date_service_active'])\n",
    "\n",
    "# splitting each column into a date column\n",
    "billings_df['year_service_active']  = billings_df[\"date_service_active\"].dt.year\n",
    "billings_df['month_service_active'] = billings_df[\"date_service_active\"].dt.month\n",
    "billings_df['date_service_active']  = billings_df['date_service_active'].dt.date"
   ]
  },
  {
   "cell_type": "code",
   "execution_count": 6,
   "metadata": {},
   "outputs": [
    {
     "data": {
      "text/html": [
       "<div>\n",
       "<table border=\"1\" class=\"dataframe\">\n",
       "  <thead>\n",
       "    <tr style=\"text-align: right;\">\n",
       "      <th></th>\n",
       "      <th>owner_fee</th>\n",
       "      <th>date_service_active</th>\n",
       "      <th>service_fee</th>\n",
       "      <th>price_per_unit</th>\n",
       "      <th>year_service_active</th>\n",
       "      <th>month_service_active</th>\n",
       "    </tr>\n",
       "  </thead>\n",
       "  <tbody>\n",
       "    <tr>\n",
       "      <th>17964</th>\n",
       "      <td>0.05</td>\n",
       "      <td>2016-04-07</td>\n",
       "      <td>0.15</td>\n",
       "      <td>29</td>\n",
       "      <td>2016</td>\n",
       "      <td>4</td>\n",
       "    </tr>\n",
       "    <tr>\n",
       "      <th>21508</th>\n",
       "      <td>0.07</td>\n",
       "      <td>2017-04-13</td>\n",
       "      <td>0.20</td>\n",
       "      <td>27</td>\n",
       "      <td>2017</td>\n",
       "      <td>4</td>\n",
       "    </tr>\n",
       "  </tbody>\n",
       "</table>\n",
       "</div>"
      ],
      "text/plain": [
       "       owner_fee date_service_active  service_fee  price_per_unit  \\\n",
       "17964       0.05          2016-04-07         0.15              29   \n",
       "21508       0.07          2017-04-13         0.20              27   \n",
       "\n",
       "       year_service_active  month_service_active  \n",
       "17964                 2016                     4  \n",
       "21508                 2017                     4  "
      ]
     },
     "execution_count": 6,
     "metadata": {},
     "output_type": "execute_result"
    }
   ],
   "source": [
    "billings_df.sample(2)"
   ]
  },
  {
   "cell_type": "code",
   "execution_count": 7,
   "metadata": {},
   "outputs": [],
   "source": [
    "billings_df['gross_billings'] = billings_df.price_per_unit + (billings_df.price_per_unit * billings_df.owner_fee)\n",
    "\n",
    "billings_df['net_revenue']    = (billings_df.price_per_unit * billings_df.owner_fee) + (billings_df.price_per_unit * billings_df.service_fee)"
   ]
  },
  {
   "cell_type": "code",
   "execution_count": 8,
   "metadata": {},
   "outputs": [
    {
     "data": {
      "text/html": [
       "<div>\n",
       "<table border=\"1\" class=\"dataframe\">\n",
       "  <thead>\n",
       "    <tr style=\"text-align: right;\">\n",
       "      <th></th>\n",
       "      <th>owner_fee</th>\n",
       "      <th>date_service_active</th>\n",
       "      <th>service_fee</th>\n",
       "      <th>price_per_unit</th>\n",
       "      <th>year_service_active</th>\n",
       "      <th>month_service_active</th>\n",
       "      <th>gross_billings</th>\n",
       "      <th>net_revenue</th>\n",
       "    </tr>\n",
       "  </thead>\n",
       "  <tbody>\n",
       "    <tr>\n",
       "      <th>20005</th>\n",
       "      <td>0.05</td>\n",
       "      <td>2016-10-20</td>\n",
       "      <td>0.2</td>\n",
       "      <td>31</td>\n",
       "      <td>2016</td>\n",
       "      <td>10</td>\n",
       "      <td>32.55</td>\n",
       "      <td>7.75</td>\n",
       "    </tr>\n",
       "    <tr>\n",
       "      <th>10502</th>\n",
       "      <td>0.05</td>\n",
       "      <td>2016-09-06</td>\n",
       "      <td>0.2</td>\n",
       "      <td>23</td>\n",
       "      <td>2016</td>\n",
       "      <td>9</td>\n",
       "      <td>24.15</td>\n",
       "      <td>5.75</td>\n",
       "    </tr>\n",
       "  </tbody>\n",
       "</table>\n",
       "</div>"
      ],
      "text/plain": [
       "       owner_fee date_service_active  service_fee  price_per_unit  \\\n",
       "20005       0.05          2016-10-20          0.2              31   \n",
       "10502       0.05          2016-09-06          0.2              23   \n",
       "\n",
       "       year_service_active  month_service_active  gross_billings  net_revenue  \n",
       "20005                 2016                    10           32.55         7.75  \n",
       "10502                 2016                     9           24.15         5.75  "
      ]
     },
     "execution_count": 8,
     "metadata": {},
     "output_type": "execute_result"
    }
   ],
   "source": [
    "billings_df.sample(2)"
   ]
  },
  {
   "cell_type": "code",
   "execution_count": 9,
   "metadata": {},
   "outputs": [],
   "source": [
    "# using .sum() will add all the price per units in each month to calculate gross billings and net revenue\n",
    "money_by_month = billings_df.groupby(['date_service_active'], as_index=False).sum()"
   ]
  },
  {
   "cell_type": "code",
   "execution_count": 10,
   "metadata": {
    "scrolled": true
   },
   "outputs": [
    {
     "data": {
      "text/html": [
       "<div>\n",
       "<table border=\"1\" class=\"dataframe\">\n",
       "  <thead>\n",
       "    <tr style=\"text-align: right;\">\n",
       "      <th></th>\n",
       "      <th>date_service_active</th>\n",
       "      <th>owner_fee</th>\n",
       "      <th>service_fee</th>\n",
       "      <th>price_per_unit</th>\n",
       "      <th>year_service_active</th>\n",
       "      <th>month_service_active</th>\n",
       "      <th>gross_billings</th>\n",
       "      <th>net_revenue</th>\n",
       "    </tr>\n",
       "  </thead>\n",
       "  <tbody>\n",
       "    <tr>\n",
       "      <th>3</th>\n",
       "      <td>2015-07-24</td>\n",
       "      <td>0.02</td>\n",
       "      <td>0.15</td>\n",
       "      <td>30</td>\n",
       "      <td>2015</td>\n",
       "      <td>7</td>\n",
       "      <td>30.6</td>\n",
       "      <td>5.1</td>\n",
       "    </tr>\n",
       "    <tr>\n",
       "      <th>5</th>\n",
       "      <td>2015-07-28</td>\n",
       "      <td>0.02</td>\n",
       "      <td>0.15</td>\n",
       "      <td>30</td>\n",
       "      <td>2015</td>\n",
       "      <td>7</td>\n",
       "      <td>30.6</td>\n",
       "      <td>5.1</td>\n",
       "    </tr>\n",
       "  </tbody>\n",
       "</table>\n",
       "</div>"
      ],
      "text/plain": [
       "  date_service_active  owner_fee  service_fee  price_per_unit  \\\n",
       "3          2015-07-24       0.02         0.15              30   \n",
       "5          2015-07-28       0.02         0.15              30   \n",
       "\n",
       "   year_service_active  month_service_active  gross_billings  net_revenue  \n",
       "3                 2015                     7            30.6          5.1  \n",
       "5                 2015                     7            30.6          5.1  "
      ]
     },
     "execution_count": 10,
     "metadata": {},
     "output_type": "execute_result"
    }
   ],
   "source": [
    "money_by_month.sort_values(['year_service_active', 'month_service_active']).head(2)"
   ]
  },
  {
   "cell_type": "code",
   "execution_count": 11,
   "metadata": {},
   "outputs": [],
   "source": [
    "money_by_month = billings_df.groupby(['month_service_active', 'year_service_active'], as_index=False).sum()"
   ]
  },
  {
   "cell_type": "code",
   "execution_count": 12,
   "metadata": {},
   "outputs": [
    {
     "data": {
      "text/html": [
       "<div>\n",
       "<table border=\"1\" class=\"dataframe\">\n",
       "  <thead>\n",
       "    <tr style=\"text-align: right;\">\n",
       "      <th></th>\n",
       "      <th>month_service_active</th>\n",
       "      <th>year_service_active</th>\n",
       "      <th>owner_fee</th>\n",
       "      <th>service_fee</th>\n",
       "      <th>price_per_unit</th>\n",
       "      <th>gross_billings</th>\n",
       "      <th>net_revenue</th>\n",
       "    </tr>\n",
       "  </thead>\n",
       "  <tbody>\n",
       "    <tr>\n",
       "      <th>12</th>\n",
       "      <td>7</td>\n",
       "      <td>2015</td>\n",
       "      <td>0.32</td>\n",
       "      <td>27.90</td>\n",
       "      <td>5169</td>\n",
       "      <td>5178.18</td>\n",
       "      <td>784.53</td>\n",
       "    </tr>\n",
       "    <tr>\n",
       "      <th>15</th>\n",
       "      <td>8</td>\n",
       "      <td>2015</td>\n",
       "      <td>2.10</td>\n",
       "      <td>15.75</td>\n",
       "      <td>2894</td>\n",
       "      <td>2951.88</td>\n",
       "      <td>491.98</td>\n",
       "    </tr>\n",
       "  </tbody>\n",
       "</table>\n",
       "</div>"
      ],
      "text/plain": [
       "    month_service_active  year_service_active  owner_fee  service_fee  \\\n",
       "12                     7                 2015       0.32        27.90   \n",
       "15                     8                 2015       2.10        15.75   \n",
       "\n",
       "    price_per_unit  gross_billings  net_revenue  \n",
       "12            5169         5178.18       784.53  \n",
       "15            2894         2951.88       491.98  "
      ]
     },
     "execution_count": 12,
     "metadata": {},
     "output_type": "execute_result"
    }
   ],
   "source": [
    "money_by_month = money_by_month.sort_values(['year_service_active', 'month_service_active'])\n",
    "money_by_month.head(2)"
   ]
  },
  {
   "cell_type": "markdown",
   "metadata": {},
   "source": [
    "## 2. Define take rate to be the percentage of gross billings that is net revenue. In each month, what was the aggregate take rate?\n",
    "\n",
    "a) Calculate take rate by dividing `net_revenue` by `gross_billings`, multiply by 100\n",
    "\n",
    "b) Add labels for Months using the calendar library\n",
    "\n",
    "c) Split tables into 3 separate tables, one for each year where there are records: 2015, 2016, and 2017 for analysis"
   ]
  },
  {
   "cell_type": "code",
   "execution_count": 13,
   "metadata": {},
   "outputs": [
    {
     "data": {
      "text/html": [
       "<div>\n",
       "<table border=\"1\" class=\"dataframe\">\n",
       "  <thead>\n",
       "    <tr style=\"text-align: right;\">\n",
       "      <th></th>\n",
       "      <th>month_service_active</th>\n",
       "      <th>year_service_active</th>\n",
       "      <th>owner_fee</th>\n",
       "      <th>service_fee</th>\n",
       "      <th>price_per_unit</th>\n",
       "      <th>gross_billings</th>\n",
       "      <th>net_revenue</th>\n",
       "      <th>take_rate</th>\n",
       "    </tr>\n",
       "  </thead>\n",
       "  <tbody>\n",
       "    <tr>\n",
       "      <th>12</th>\n",
       "      <td>7</td>\n",
       "      <td>2015</td>\n",
       "      <td>0.32</td>\n",
       "      <td>27.90</td>\n",
       "      <td>5169</td>\n",
       "      <td>5178.18</td>\n",
       "      <td>784.53</td>\n",
       "      <td>15.150690</td>\n",
       "    </tr>\n",
       "    <tr>\n",
       "      <th>15</th>\n",
       "      <td>8</td>\n",
       "      <td>2015</td>\n",
       "      <td>2.10</td>\n",
       "      <td>15.75</td>\n",
       "      <td>2894</td>\n",
       "      <td>2951.88</td>\n",
       "      <td>491.98</td>\n",
       "      <td>16.666667</td>\n",
       "    </tr>\n",
       "  </tbody>\n",
       "</table>\n",
       "</div>"
      ],
      "text/plain": [
       "    month_service_active  year_service_active  owner_fee  service_fee  \\\n",
       "12                     7                 2015       0.32        27.90   \n",
       "15                     8                 2015       2.10        15.75   \n",
       "\n",
       "    price_per_unit  gross_billings  net_revenue  take_rate  \n",
       "12            5169         5178.18       784.53  15.150690  \n",
       "15            2894         2951.88       491.98  16.666667  "
      ]
     },
     "execution_count": 13,
     "metadata": {},
     "output_type": "execute_result"
    }
   ],
   "source": [
    "money_by_month['take_rate'] = (money_by_month.net_revenue / money_by_month.gross_billings) * 100\n",
    "money_by_month.head(2)"
   ]
  },
  {
   "cell_type": "code",
   "execution_count": 14,
   "metadata": {
    "scrolled": true
   },
   "outputs": [
    {
     "data": {
      "text/html": [
       "<div>\n",
       "<table border=\"1\" class=\"dataframe\">\n",
       "  <thead>\n",
       "    <tr style=\"text-align: right;\">\n",
       "      <th></th>\n",
       "      <th>month_service_active</th>\n",
       "      <th>year_service_active</th>\n",
       "      <th>gross_billings</th>\n",
       "      <th>net_revenue</th>\n",
       "      <th>take_rate</th>\n",
       "    </tr>\n",
       "  </thead>\n",
       "  <tbody>\n",
       "    <tr>\n",
       "      <th>12</th>\n",
       "      <td>7</td>\n",
       "      <td>2015</td>\n",
       "      <td>5178.18</td>\n",
       "      <td>784.53</td>\n",
       "      <td>15.150690</td>\n",
       "    </tr>\n",
       "    <tr>\n",
       "      <th>15</th>\n",
       "      <td>8</td>\n",
       "      <td>2015</td>\n",
       "      <td>2951.88</td>\n",
       "      <td>491.98</td>\n",
       "      <td>16.666667</td>\n",
       "    </tr>\n",
       "  </tbody>\n",
       "</table>\n",
       "</div>"
      ],
      "text/plain": [
       "    month_service_active  year_service_active  gross_billings  net_revenue  \\\n",
       "12                     7                 2015         5178.18       784.53   \n",
       "15                     8                 2015         2951.88       491.98   \n",
       "\n",
       "    take_rate  \n",
       "12  15.150690  \n",
       "15  16.666667  "
      ]
     },
     "execution_count": 14,
     "metadata": {},
     "output_type": "execute_result"
    }
   ],
   "source": [
    "moneys = money_by_month.drop(['owner_fee', 'service_fee', 'price_per_unit'], axis=1)\n",
    "moneys.head(2)"
   ]
  },
  {
   "cell_type": "code",
   "execution_count": 15,
   "metadata": {},
   "outputs": [],
   "source": [
    "moneys['month_service_active'] = moneys['month_service_active'].apply(lambda x: calendar.month_abbr[x])"
   ]
  },
  {
   "cell_type": "code",
   "execution_count": 16,
   "metadata": {
    "scrolled": true
   },
   "outputs": [
    {
     "data": {
      "text/html": [
       "<div>\n",
       "<table border=\"1\" class=\"dataframe\">\n",
       "  <thead>\n",
       "    <tr style=\"text-align: right;\">\n",
       "      <th></th>\n",
       "      <th>month_service_active</th>\n",
       "      <th>year_service_active</th>\n",
       "      <th>gross_billings</th>\n",
       "      <th>net_revenue</th>\n",
       "      <th>take_rate</th>\n",
       "    </tr>\n",
       "  </thead>\n",
       "  <tbody>\n",
       "    <tr>\n",
       "      <th>12</th>\n",
       "      <td>Jul</td>\n",
       "      <td>2015</td>\n",
       "      <td>5178.18</td>\n",
       "      <td>784.53</td>\n",
       "      <td>15.150690</td>\n",
       "    </tr>\n",
       "    <tr>\n",
       "      <th>15</th>\n",
       "      <td>Aug</td>\n",
       "      <td>2015</td>\n",
       "      <td>2951.88</td>\n",
       "      <td>491.98</td>\n",
       "      <td>16.666667</td>\n",
       "    </tr>\n",
       "  </tbody>\n",
       "</table>\n",
       "</div>"
      ],
      "text/plain": [
       "   month_service_active  year_service_active  gross_billings  net_revenue  \\\n",
       "12                  Jul                 2015         5178.18       784.53   \n",
       "15                  Aug                 2015         2951.88       491.98   \n",
       "\n",
       "    take_rate  \n",
       "12  15.150690  \n",
       "15  16.666667  "
      ]
     },
     "execution_count": 16,
     "metadata": {},
     "output_type": "execute_result"
    }
   ],
   "source": [
    "moneys.head(2)"
   ]
  },
  {
   "cell_type": "code",
   "execution_count": 17,
   "metadata": {
    "scrolled": true
   },
   "outputs": [
    {
     "name": "stderr",
     "output_type": "stream",
     "text": [
      "/opt/conda/lib/python3.6/site-packages/ipykernel_launcher.py:2: SettingWithCopyWarning: \n",
      "A value is trying to be set on a copy of a slice from a DataFrame\n",
      "\n",
      "See the caveats in the documentation: http://pandas.pydata.org/pandas-docs/stable/indexing.html#indexing-view-versus-copy\n",
      "  \n"
     ]
    },
    {
     "data": {
      "text/html": [
       "<div>\n",
       "<table border=\"1\" class=\"dataframe\">\n",
       "  <thead>\n",
       "    <tr style=\"text-align: right;\">\n",
       "      <th></th>\n",
       "      <th>month_service_active</th>\n",
       "      <th>gross_billings</th>\n",
       "      <th>net_revenue</th>\n",
       "      <th>take_rate</th>\n",
       "    </tr>\n",
       "  </thead>\n",
       "  <tbody>\n",
       "    <tr>\n",
       "      <th>12</th>\n",
       "      <td>Jul</td>\n",
       "      <td>5178.18</td>\n",
       "      <td>784.53</td>\n",
       "      <td>15.150690</td>\n",
       "    </tr>\n",
       "    <tr>\n",
       "      <th>15</th>\n",
       "      <td>Aug</td>\n",
       "      <td>2951.88</td>\n",
       "      <td>491.98</td>\n",
       "      <td>16.666667</td>\n",
       "    </tr>\n",
       "    <tr>\n",
       "      <th>17</th>\n",
       "      <td>Sep</td>\n",
       "      <td>4371.72</td>\n",
       "      <td>728.62</td>\n",
       "      <td>16.666667</td>\n",
       "    </tr>\n",
       "    <tr>\n",
       "      <th>19</th>\n",
       "      <td>Oct</td>\n",
       "      <td>6587.16</td>\n",
       "      <td>1097.86</td>\n",
       "      <td>16.666667</td>\n",
       "    </tr>\n",
       "    <tr>\n",
       "      <th>21</th>\n",
       "      <td>Nov</td>\n",
       "      <td>8841.36</td>\n",
       "      <td>1473.56</td>\n",
       "      <td>16.666667</td>\n",
       "    </tr>\n",
       "    <tr>\n",
       "      <th>23</th>\n",
       "      <td>Dec</td>\n",
       "      <td>12096.21</td>\n",
       "      <td>2270.21</td>\n",
       "      <td>18.767945</td>\n",
       "    </tr>\n",
       "  </tbody>\n",
       "</table>\n",
       "</div>"
      ],
      "text/plain": [
       "   month_service_active  gross_billings  net_revenue  take_rate\n",
       "12                  Jul         5178.18       784.53  15.150690\n",
       "15                  Aug         2951.88       491.98  16.666667\n",
       "17                  Sep         4371.72       728.62  16.666667\n",
       "19                  Oct         6587.16      1097.86  16.666667\n",
       "21                  Nov         8841.36      1473.56  16.666667\n",
       "23                  Dec        12096.21      2270.21  18.767945"
      ]
     },
     "execution_count": 17,
     "metadata": {},
     "output_type": "execute_result"
    }
   ],
   "source": [
    "moneys_2015 = moneys[moneys.year_service_active == 2015]\n",
    "moneys_2015.drop('year_service_active', axis=1, inplace=True)\n",
    "moneys_2015"
   ]
  },
  {
   "cell_type": "code",
   "execution_count": 18,
   "metadata": {
    "scrolled": true
   },
   "outputs": [
    {
     "name": "stderr",
     "output_type": "stream",
     "text": [
      "/opt/conda/lib/python3.6/site-packages/pandas/core/frame.py:2834: SettingWithCopyWarning: \n",
      "A value is trying to be set on a copy of a slice from a DataFrame\n",
      "\n",
      "See the caveats in the documentation: http://pandas.pydata.org/pandas-docs/stable/indexing.html#indexing-view-versus-copy\n",
      "  **kwargs)\n"
     ]
    },
    {
     "data": {
      "text/html": [
       "<div>\n",
       "<table border=\"1\" class=\"dataframe\">\n",
       "  <thead>\n",
       "    <tr style=\"text-align: right;\">\n",
       "      <th></th>\n",
       "      <th>Month Service Active</th>\n",
       "      <th>Gross Billings</th>\n",
       "      <th>Net Revenue</th>\n",
       "      <th>Take Rate (%)</th>\n",
       "    </tr>\n",
       "  </thead>\n",
       "  <tbody>\n",
       "    <tr>\n",
       "      <th>12</th>\n",
       "      <td>Jul</td>\n",
       "      <td>5178.18</td>\n",
       "      <td>784.53</td>\n",
       "      <td>15.150690</td>\n",
       "    </tr>\n",
       "    <tr>\n",
       "      <th>15</th>\n",
       "      <td>Aug</td>\n",
       "      <td>2951.88</td>\n",
       "      <td>491.98</td>\n",
       "      <td>16.666667</td>\n",
       "    </tr>\n",
       "    <tr>\n",
       "      <th>17</th>\n",
       "      <td>Sep</td>\n",
       "      <td>4371.72</td>\n",
       "      <td>728.62</td>\n",
       "      <td>16.666667</td>\n",
       "    </tr>\n",
       "    <tr>\n",
       "      <th>19</th>\n",
       "      <td>Oct</td>\n",
       "      <td>6587.16</td>\n",
       "      <td>1097.86</td>\n",
       "      <td>16.666667</td>\n",
       "    </tr>\n",
       "    <tr>\n",
       "      <th>21</th>\n",
       "      <td>Nov</td>\n",
       "      <td>8841.36</td>\n",
       "      <td>1473.56</td>\n",
       "      <td>16.666667</td>\n",
       "    </tr>\n",
       "    <tr>\n",
       "      <th>23</th>\n",
       "      <td>Dec</td>\n",
       "      <td>12096.21</td>\n",
       "      <td>2270.21</td>\n",
       "      <td>18.767945</td>\n",
       "    </tr>\n",
       "  </tbody>\n",
       "</table>\n",
       "</div>"
      ],
      "text/plain": [
       "   Month Service Active  Gross Billings  Net Revenue  Take Rate (%)\n",
       "12                  Jul         5178.18       784.53      15.150690\n",
       "15                  Aug         2951.88       491.98      16.666667\n",
       "17                  Sep         4371.72       728.62      16.666667\n",
       "19                  Oct         6587.16      1097.86      16.666667\n",
       "21                  Nov         8841.36      1473.56      16.666667\n",
       "23                  Dec        12096.21      2270.21      18.767945"
      ]
     },
     "execution_count": 18,
     "metadata": {},
     "output_type": "execute_result"
    }
   ],
   "source": [
    "moneys_2015.rename(columns={\n",
    "    'month_service_active': 'Month Service Active',\n",
    "    'gross_billings': 'Gross Billings',\n",
    "    'net_revenue': 'Net Revenue',\n",
    "    'take_rate': 'Take Rate (%)'\n",
    "}, inplace=True)\n",
    "moneys_2015"
   ]
  },
  {
   "cell_type": "code",
   "execution_count": 19,
   "metadata": {
    "scrolled": true
   },
   "outputs": [
    {
     "name": "stderr",
     "output_type": "stream",
     "text": [
      "/opt/conda/lib/python3.6/site-packages/ipykernel_launcher.py:2: SettingWithCopyWarning: \n",
      "A value is trying to be set on a copy of a slice from a DataFrame\n",
      "\n",
      "See the caveats in the documentation: http://pandas.pydata.org/pandas-docs/stable/indexing.html#indexing-view-versus-copy\n",
      "  \n"
     ]
    },
    {
     "data": {
      "text/html": [
       "<div>\n",
       "<table border=\"1\" class=\"dataframe\">\n",
       "  <thead>\n",
       "    <tr style=\"text-align: right;\">\n",
       "      <th></th>\n",
       "      <th>month_service_active</th>\n",
       "      <th>gross_billings</th>\n",
       "      <th>net_revenue</th>\n",
       "      <th>take_rate</th>\n",
       "    </tr>\n",
       "  </thead>\n",
       "  <tbody>\n",
       "    <tr>\n",
       "      <th>0</th>\n",
       "      <td>Jan</td>\n",
       "      <td>14412.30</td>\n",
       "      <td>2745.20</td>\n",
       "      <td>19.047619</td>\n",
       "    </tr>\n",
       "    <tr>\n",
       "      <th>2</th>\n",
       "      <td>Feb</td>\n",
       "      <td>16109.10</td>\n",
       "      <td>3068.40</td>\n",
       "      <td>19.047619</td>\n",
       "    </tr>\n",
       "    <tr>\n",
       "      <th>4</th>\n",
       "      <td>Mar</td>\n",
       "      <td>20085.45</td>\n",
       "      <td>3825.80</td>\n",
       "      <td>19.047619</td>\n",
       "    </tr>\n",
       "    <tr>\n",
       "      <th>6</th>\n",
       "      <td>Apr</td>\n",
       "      <td>20413.05</td>\n",
       "      <td>3973.25</td>\n",
       "      <td>19.464264</td>\n",
       "    </tr>\n",
       "    <tr>\n",
       "      <th>8</th>\n",
       "      <td>May</td>\n",
       "      <td>23251.20</td>\n",
       "      <td>5536.00</td>\n",
       "      <td>23.809524</td>\n",
       "    </tr>\n",
       "    <tr>\n",
       "      <th>10</th>\n",
       "      <td>Jun</td>\n",
       "      <td>25019.40</td>\n",
       "      <td>5957.00</td>\n",
       "      <td>23.809524</td>\n",
       "    </tr>\n",
       "    <tr>\n",
       "      <th>13</th>\n",
       "      <td>Jul</td>\n",
       "      <td>26260.50</td>\n",
       "      <td>6252.50</td>\n",
       "      <td>23.809524</td>\n",
       "    </tr>\n",
       "    <tr>\n",
       "      <th>16</th>\n",
       "      <td>Aug</td>\n",
       "      <td>28064.40</td>\n",
       "      <td>6682.00</td>\n",
       "      <td>23.809524</td>\n",
       "    </tr>\n",
       "    <tr>\n",
       "      <th>18</th>\n",
       "      <td>Sep</td>\n",
       "      <td>34102.95</td>\n",
       "      <td>8119.75</td>\n",
       "      <td>23.809524</td>\n",
       "    </tr>\n",
       "    <tr>\n",
       "      <th>20</th>\n",
       "      <td>Oct</td>\n",
       "      <td>31594.50</td>\n",
       "      <td>7522.50</td>\n",
       "      <td>23.809524</td>\n",
       "    </tr>\n",
       "    <tr>\n",
       "      <th>22</th>\n",
       "      <td>Nov</td>\n",
       "      <td>35206.96</td>\n",
       "      <td>8738.16</td>\n",
       "      <td>24.819411</td>\n",
       "    </tr>\n",
       "    <tr>\n",
       "      <th>24</th>\n",
       "      <td>Dec</td>\n",
       "      <td>37101.18</td>\n",
       "      <td>9361.98</td>\n",
       "      <td>25.233645</td>\n",
       "    </tr>\n",
       "  </tbody>\n",
       "</table>\n",
       "</div>"
      ],
      "text/plain": [
       "   month_service_active  gross_billings  net_revenue  take_rate\n",
       "0                   Jan        14412.30      2745.20  19.047619\n",
       "2                   Feb        16109.10      3068.40  19.047619\n",
       "4                   Mar        20085.45      3825.80  19.047619\n",
       "6                   Apr        20413.05      3973.25  19.464264\n",
       "8                   May        23251.20      5536.00  23.809524\n",
       "10                  Jun        25019.40      5957.00  23.809524\n",
       "13                  Jul        26260.50      6252.50  23.809524\n",
       "16                  Aug        28064.40      6682.00  23.809524\n",
       "18                  Sep        34102.95      8119.75  23.809524\n",
       "20                  Oct        31594.50      7522.50  23.809524\n",
       "22                  Nov        35206.96      8738.16  24.819411\n",
       "24                  Dec        37101.18      9361.98  25.233645"
      ]
     },
     "execution_count": 19,
     "metadata": {},
     "output_type": "execute_result"
    }
   ],
   "source": [
    "moneys_2016 = moneys[moneys.year_service_active == 2016]\n",
    "moneys_2016.drop('year_service_active', axis=1, inplace=True)\n",
    "moneys_2016"
   ]
  },
  {
   "cell_type": "code",
   "execution_count": 20,
   "metadata": {},
   "outputs": [
    {
     "name": "stderr",
     "output_type": "stream",
     "text": [
      "/opt/conda/lib/python3.6/site-packages/pandas/core/frame.py:2834: SettingWithCopyWarning: \n",
      "A value is trying to be set on a copy of a slice from a DataFrame\n",
      "\n",
      "See the caveats in the documentation: http://pandas.pydata.org/pandas-docs/stable/indexing.html#indexing-view-versus-copy\n",
      "  **kwargs)\n"
     ]
    },
    {
     "data": {
      "text/html": [
       "<div>\n",
       "<table border=\"1\" class=\"dataframe\">\n",
       "  <thead>\n",
       "    <tr style=\"text-align: right;\">\n",
       "      <th></th>\n",
       "      <th>Month Service Active</th>\n",
       "      <th>Gross Billings</th>\n",
       "      <th>Net Revenue</th>\n",
       "      <th>Take Rate (%)</th>\n",
       "    </tr>\n",
       "  </thead>\n",
       "  <tbody>\n",
       "    <tr>\n",
       "      <th>0</th>\n",
       "      <td>Jan</td>\n",
       "      <td>14412.30</td>\n",
       "      <td>2745.20</td>\n",
       "      <td>19.047619</td>\n",
       "    </tr>\n",
       "    <tr>\n",
       "      <th>2</th>\n",
       "      <td>Feb</td>\n",
       "      <td>16109.10</td>\n",
       "      <td>3068.40</td>\n",
       "      <td>19.047619</td>\n",
       "    </tr>\n",
       "    <tr>\n",
       "      <th>4</th>\n",
       "      <td>Mar</td>\n",
       "      <td>20085.45</td>\n",
       "      <td>3825.80</td>\n",
       "      <td>19.047619</td>\n",
       "    </tr>\n",
       "    <tr>\n",
       "      <th>6</th>\n",
       "      <td>Apr</td>\n",
       "      <td>20413.05</td>\n",
       "      <td>3973.25</td>\n",
       "      <td>19.464264</td>\n",
       "    </tr>\n",
       "    <tr>\n",
       "      <th>8</th>\n",
       "      <td>May</td>\n",
       "      <td>23251.20</td>\n",
       "      <td>5536.00</td>\n",
       "      <td>23.809524</td>\n",
       "    </tr>\n",
       "    <tr>\n",
       "      <th>10</th>\n",
       "      <td>Jun</td>\n",
       "      <td>25019.40</td>\n",
       "      <td>5957.00</td>\n",
       "      <td>23.809524</td>\n",
       "    </tr>\n",
       "    <tr>\n",
       "      <th>13</th>\n",
       "      <td>Jul</td>\n",
       "      <td>26260.50</td>\n",
       "      <td>6252.50</td>\n",
       "      <td>23.809524</td>\n",
       "    </tr>\n",
       "    <tr>\n",
       "      <th>16</th>\n",
       "      <td>Aug</td>\n",
       "      <td>28064.40</td>\n",
       "      <td>6682.00</td>\n",
       "      <td>23.809524</td>\n",
       "    </tr>\n",
       "    <tr>\n",
       "      <th>18</th>\n",
       "      <td>Sep</td>\n",
       "      <td>34102.95</td>\n",
       "      <td>8119.75</td>\n",
       "      <td>23.809524</td>\n",
       "    </tr>\n",
       "    <tr>\n",
       "      <th>20</th>\n",
       "      <td>Oct</td>\n",
       "      <td>31594.50</td>\n",
       "      <td>7522.50</td>\n",
       "      <td>23.809524</td>\n",
       "    </tr>\n",
       "    <tr>\n",
       "      <th>22</th>\n",
       "      <td>Nov</td>\n",
       "      <td>35206.96</td>\n",
       "      <td>8738.16</td>\n",
       "      <td>24.819411</td>\n",
       "    </tr>\n",
       "    <tr>\n",
       "      <th>24</th>\n",
       "      <td>Dec</td>\n",
       "      <td>37101.18</td>\n",
       "      <td>9361.98</td>\n",
       "      <td>25.233645</td>\n",
       "    </tr>\n",
       "  </tbody>\n",
       "</table>\n",
       "</div>"
      ],
      "text/plain": [
       "   Month Service Active  Gross Billings  Net Revenue  Take Rate (%)\n",
       "0                   Jan        14412.30      2745.20      19.047619\n",
       "2                   Feb        16109.10      3068.40      19.047619\n",
       "4                   Mar        20085.45      3825.80      19.047619\n",
       "6                   Apr        20413.05      3973.25      19.464264\n",
       "8                   May        23251.20      5536.00      23.809524\n",
       "10                  Jun        25019.40      5957.00      23.809524\n",
       "13                  Jul        26260.50      6252.50      23.809524\n",
       "16                  Aug        28064.40      6682.00      23.809524\n",
       "18                  Sep        34102.95      8119.75      23.809524\n",
       "20                  Oct        31594.50      7522.50      23.809524\n",
       "22                  Nov        35206.96      8738.16      24.819411\n",
       "24                  Dec        37101.18      9361.98      25.233645"
      ]
     },
     "execution_count": 20,
     "metadata": {},
     "output_type": "execute_result"
    }
   ],
   "source": [
    "moneys_2016.rename(columns={\n",
    "    'month_service_active': 'Month Service Active',\n",
    "    'gross_billings': 'Gross Billings',\n",
    "    'net_revenue': 'Net Revenue',\n",
    "    'take_rate': 'Take Rate (%)'\n",
    "}, inplace=True)\n",
    "moneys_2016"
   ]
  },
  {
   "cell_type": "code",
   "execution_count": 21,
   "metadata": {
    "scrolled": true
   },
   "outputs": [
    {
     "name": "stderr",
     "output_type": "stream",
     "text": [
      "/opt/conda/lib/python3.6/site-packages/ipykernel_launcher.py:2: SettingWithCopyWarning: \n",
      "A value is trying to be set on a copy of a slice from a DataFrame\n",
      "\n",
      "See the caveats in the documentation: http://pandas.pydata.org/pandas-docs/stable/indexing.html#indexing-view-versus-copy\n",
      "  \n"
     ]
    },
    {
     "data": {
      "text/html": [
       "<div>\n",
       "<table border=\"1\" class=\"dataframe\">\n",
       "  <thead>\n",
       "    <tr style=\"text-align: right;\">\n",
       "      <th></th>\n",
       "      <th>month_service_active</th>\n",
       "      <th>gross_billings</th>\n",
       "      <th>net_revenue</th>\n",
       "      <th>take_rate</th>\n",
       "    </tr>\n",
       "  </thead>\n",
       "  <tbody>\n",
       "    <tr>\n",
       "      <th>1</th>\n",
       "      <td>Jan</td>\n",
       "      <td>40706.01</td>\n",
       "      <td>10271.61</td>\n",
       "      <td>25.233645</td>\n",
       "    </tr>\n",
       "    <tr>\n",
       "      <th>3</th>\n",
       "      <td>Feb</td>\n",
       "      <td>35779.73</td>\n",
       "      <td>9028.53</td>\n",
       "      <td>25.233645</td>\n",
       "    </tr>\n",
       "    <tr>\n",
       "      <th>5</th>\n",
       "      <td>Mar</td>\n",
       "      <td>45013.83</td>\n",
       "      <td>11358.63</td>\n",
       "      <td>25.233645</td>\n",
       "    </tr>\n",
       "    <tr>\n",
       "      <th>7</th>\n",
       "      <td>Apr</td>\n",
       "      <td>47734.84</td>\n",
       "      <td>12045.24</td>\n",
       "      <td>25.233645</td>\n",
       "    </tr>\n",
       "    <tr>\n",
       "      <th>9</th>\n",
       "      <td>May</td>\n",
       "      <td>50989.78</td>\n",
       "      <td>12866.58</td>\n",
       "      <td>25.233645</td>\n",
       "    </tr>\n",
       "    <tr>\n",
       "      <th>11</th>\n",
       "      <td>Jun</td>\n",
       "      <td>47829.00</td>\n",
       "      <td>12069.00</td>\n",
       "      <td>25.233645</td>\n",
       "    </tr>\n",
       "    <tr>\n",
       "      <th>14</th>\n",
       "      <td>Jul</td>\n",
       "      <td>17042.96</td>\n",
       "      <td>4300.56</td>\n",
       "      <td>25.233645</td>\n",
       "    </tr>\n",
       "  </tbody>\n",
       "</table>\n",
       "</div>"
      ],
      "text/plain": [
       "   month_service_active  gross_billings  net_revenue  take_rate\n",
       "1                   Jan        40706.01     10271.61  25.233645\n",
       "3                   Feb        35779.73      9028.53  25.233645\n",
       "5                   Mar        45013.83     11358.63  25.233645\n",
       "7                   Apr        47734.84     12045.24  25.233645\n",
       "9                   May        50989.78     12866.58  25.233645\n",
       "11                  Jun        47829.00     12069.00  25.233645\n",
       "14                  Jul        17042.96      4300.56  25.233645"
      ]
     },
     "execution_count": 21,
     "metadata": {},
     "output_type": "execute_result"
    }
   ],
   "source": [
    "moneys_2017 = moneys[moneys.year_service_active == 2017]\n",
    "moneys_2017.drop('year_service_active', axis=1, inplace=True)\n",
    "moneys_2017"
   ]
  },
  {
   "cell_type": "code",
   "execution_count": 22,
   "metadata": {},
   "outputs": [
    {
     "name": "stderr",
     "output_type": "stream",
     "text": [
      "/opt/conda/lib/python3.6/site-packages/pandas/core/frame.py:2834: SettingWithCopyWarning: \n",
      "A value is trying to be set on a copy of a slice from a DataFrame\n",
      "\n",
      "See the caveats in the documentation: http://pandas.pydata.org/pandas-docs/stable/indexing.html#indexing-view-versus-copy\n",
      "  **kwargs)\n"
     ]
    },
    {
     "data": {
      "text/html": [
       "<div>\n",
       "<table border=\"1\" class=\"dataframe\">\n",
       "  <thead>\n",
       "    <tr style=\"text-align: right;\">\n",
       "      <th></th>\n",
       "      <th>Month Service Active</th>\n",
       "      <th>Gross Billings</th>\n",
       "      <th>Net Revenue</th>\n",
       "      <th>Take Rate (%)</th>\n",
       "    </tr>\n",
       "  </thead>\n",
       "  <tbody>\n",
       "    <tr>\n",
       "      <th>1</th>\n",
       "      <td>Jan</td>\n",
       "      <td>40706.01</td>\n",
       "      <td>10271.61</td>\n",
       "      <td>25.233645</td>\n",
       "    </tr>\n",
       "    <tr>\n",
       "      <th>3</th>\n",
       "      <td>Feb</td>\n",
       "      <td>35779.73</td>\n",
       "      <td>9028.53</td>\n",
       "      <td>25.233645</td>\n",
       "    </tr>\n",
       "    <tr>\n",
       "      <th>5</th>\n",
       "      <td>Mar</td>\n",
       "      <td>45013.83</td>\n",
       "      <td>11358.63</td>\n",
       "      <td>25.233645</td>\n",
       "    </tr>\n",
       "    <tr>\n",
       "      <th>7</th>\n",
       "      <td>Apr</td>\n",
       "      <td>47734.84</td>\n",
       "      <td>12045.24</td>\n",
       "      <td>25.233645</td>\n",
       "    </tr>\n",
       "    <tr>\n",
       "      <th>9</th>\n",
       "      <td>May</td>\n",
       "      <td>50989.78</td>\n",
       "      <td>12866.58</td>\n",
       "      <td>25.233645</td>\n",
       "    </tr>\n",
       "    <tr>\n",
       "      <th>11</th>\n",
       "      <td>Jun</td>\n",
       "      <td>47829.00</td>\n",
       "      <td>12069.00</td>\n",
       "      <td>25.233645</td>\n",
       "    </tr>\n",
       "    <tr>\n",
       "      <th>14</th>\n",
       "      <td>Jul</td>\n",
       "      <td>17042.96</td>\n",
       "      <td>4300.56</td>\n",
       "      <td>25.233645</td>\n",
       "    </tr>\n",
       "  </tbody>\n",
       "</table>\n",
       "</div>"
      ],
      "text/plain": [
       "   Month Service Active  Gross Billings  Net Revenue  Take Rate (%)\n",
       "1                   Jan        40706.01     10271.61      25.233645\n",
       "3                   Feb        35779.73      9028.53      25.233645\n",
       "5                   Mar        45013.83     11358.63      25.233645\n",
       "7                   Apr        47734.84     12045.24      25.233645\n",
       "9                   May        50989.78     12866.58      25.233645\n",
       "11                  Jun        47829.00     12069.00      25.233645\n",
       "14                  Jul        17042.96      4300.56      25.233645"
      ]
     },
     "execution_count": 22,
     "metadata": {},
     "output_type": "execute_result"
    }
   ],
   "source": [
    "moneys_2017.rename(columns={\n",
    "    'month_service_active': 'Month Service Active',\n",
    "    'gross_billings': 'Gross Billings',\n",
    "    'net_revenue': 'Net Revenue',\n",
    "    'take_rate': 'Take Rate (%)'\n",
    "}, inplace=True)\n",
    "moneys_2017"
   ]
  },
  {
   "cell_type": "markdown",
   "metadata": {},
   "source": [
    "## 3. Did take rate trend up or trend down or remain unchanged over time?\n",
    "\n",
    "a) Plot the change in take rate over time on one plot\n",
    "\n",
    "b) Pivot the data and plot so that there is a different line for each year "
   ]
  },
  {
   "cell_type": "code",
   "execution_count": 23,
   "metadata": {
    "scrolled": true
   },
   "outputs": [
    {
     "data": {
      "text/plain": [
       "<matplotlib.text.Text at 0x7f5dc4dd4400>"
      ]
     },
     "execution_count": 23,
     "metadata": {},
     "output_type": "execute_result"
    },
    {
     "data": {
      "image/png": "[encoded data removed]",
      "text/plain": [
       "<matplotlib.figure.Figure at 0x7f5dc57308d0>"
      ]
     },
     "metadata": {},
     "output_type": "display_data"
    }
   ],
   "source": [
    "moneys.plot(x='month_service_active', y='take_rate', figsize=(10,7))\n",
    "plt.xlabel('Time', fontsize=12)\n",
    "plt.ylabel('Take Rate (%)', fontsize=12)\n",
    "plt.title('Company Take Rate Over Time', fontsize=16)"
   ]
  },
  {
   "cell_type": "markdown",
   "metadata": {},
   "source": [
    "## Analysis: \n",
    "- 15% to 25% increase in take rate over time\n",
    "\n",
    "- Rate of Increase is not constant. \n"
   ]
  },
  {
   "cell_type": "code",
   "execution_count": 24,
   "metadata": {},
   "outputs": [],
   "source": [
    "pivot_money = money_by_month.pivot(index='month_service_active', columns='year_service_active', values='take_rate')"
   ]
  },
  {
   "cell_type": "code",
   "execution_count": 25,
   "metadata": {},
   "outputs": [
    {
     "data": {
      "text/plain": [
       "<matplotlib.text.Text at 0x7f5dc56aa710>"
      ]
     },
     "execution_count": 25,
     "metadata": {},
     "output_type": "execute_result"
    },
    {
     "data": {
      "image/png": "[encoded data removed]",
      "text/plain": [
       "<matplotlib.figure.Figure at 0x7f5dc50fc048>"
      ]
     },
     "metadata": {},
     "output_type": "display_data"
    }
   ],
   "source": [
    "pivot_money.plot(figsize=(10,7), title='Change in Take Rate by Year', fontsize=16)\n",
    "plt.xlabel('Month', fontsize=12)\n",
    "plt.ylabel('Take Rate (%)', fontsize=12)"
   ]
  },
  {
   "cell_type": "markdown",
   "metadata": {},
   "source": [
    "## Analysis:\n",
    "\n",
    "- This chart shows the change in take rate by each year and highlights areas where further analysis would be helpful, including: \n",
    "\n",
    "- Between April and May, 2016 where there is the largest increase in take rate\n",
    "\n",
    "- 2017, where there is no change in take rate\n",
    "\n",
    "- Does the number of users, number of bookings, cost per booking, change in owner fees, or change in service fees affect the change in take rate? "
   ]
  },
  {
   "cell_type": "markdown",
   "metadata": {},
   "source": [
    "## 4. If it did change, investigate why and provide an explanation. Be sure to provide additional data/charts/evidence that justify your explanation. Any claims should be backed by data.\n",
    "\n",
    "#### To investigate\n",
    "- I would look into the increase in take rate that occurred between April and May, 2016. \n",
    "\n",
    "\n",
    "- I would also look at the number of users, number of bookings, cost per booking, change in owner fees, and change in service fees.  \n",
    "\n",
    "\n",
    "- Is the change in take rate due, in particular, to any of these factors changing?\n"
   ]
  },
  {
   "cell_type": "code",
   "execution_count": null,
   "metadata": {},
   "outputs": [],
   "source": []
  }
 ],
 "metadata": {
  "kernelspec": {
   "display_name": "Python 3",
   "language": "python",
   "name": "python3"
  },
  "language_info": {
   "codemirror_mode": {
    "name": "ipython",
    "version": 3
   },
   "file_extension": ".py",
   "mimetype": "text/x-python",
   "name": "python",
   "nbconvert_exporter": "python",
   "pygments_lexer": "ipython3",
   "version": "3.6.2"
  }
 },
 "nbformat": 4,
 "nbformat_minor": 2
}
