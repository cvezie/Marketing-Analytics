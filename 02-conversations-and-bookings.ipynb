{
 "cells": [
  {
   "cell_type": "markdown",
   "metadata": {},
   "source": [
    "# [2] Conversations and Bookings"
   ]
  },
  {
   "cell_type": "code",
   "execution_count": 1,
   "metadata": {},
   "outputs": [
    {
     "name": "stdout",
     "output_type": "stream",
     "text": [
      "/home/jovyan/Business_Analytics/Business-Insights-and-Analytics/Marketing_Analytics\n"
     ]
    }
   ],
   "source": [
    "cd .."
   ]
  },
  {
   "cell_type": "code",
   "execution_count": 2,
   "metadata": {},
   "outputs": [],
   "source": [
    "%run __init__.py"
   ]
  },
  {
   "cell_type": "markdown",
   "metadata": {},
   "source": [
    "## 1. What are the possible services and what is the average price per unit for each service type?\n",
    "\n",
    "a) Use a SQL query to find the distinct service types and average price from the `services_service` table\n"
   ]
  },
  {
   "cell_type": "code",
   "execution_count": 3,
   "metadata": {
    "scrolled": true
   },
   "outputs": [
    {
     "data": {
      "text/plain": [
       "['boarding', 'dog-walking', 'day-care']"
      ]
     },
     "execution_count": 3,
     "metadata": {},
     "output_type": "execute_result"
    }
   ],
   "source": [
    "service_types = list(services_service.service_type.unique())\n",
    "service_types"
   ]
  },
  {
   "cell_type": "code",
   "execution_count": 4,
   "metadata": {},
   "outputs": [],
   "source": [
    "# conn = sqlite3.connect('db26.sqlite3')"
   ]
  },
  {
   "cell_type": "code",
   "execution_count": 5,
   "metadata": {},
   "outputs": [],
   "source": [
    "query_average_price = ('SELECT DISTINCT(service_type), AVG(price) as avg_price \\\n",
    "                        FROM services_service \\\n",
    "                        GROUP BY service_type;')"
   ]
  },
  {
   "cell_type": "code",
   "execution_count": 6,
   "metadata": {},
   "outputs": [],
   "source": [
    "average_price_per_service = pd.read_sql_query(query_average_price, conn)"
   ]
  },
  {
   "cell_type": "code",
   "execution_count": 7,
   "metadata": {},
   "outputs": [
    {
     "data": {
      "text/html": [
       "<div>\n",
       "<table border=\"1\" class=\"dataframe\">\n",
       "  <thead>\n",
       "    <tr style=\"text-align: right;\">\n",
       "      <th></th>\n",
       "      <th>service_type</th>\n",
       "      <th>avg_price</th>\n",
       "    </tr>\n",
       "  </thead>\n",
       "  <tbody>\n",
       "    <tr>\n",
       "      <th>0</th>\n",
       "      <td>boarding</td>\n",
       "      <td>34.506077</td>\n",
       "    </tr>\n",
       "    <tr>\n",
       "      <th>1</th>\n",
       "      <td>day-care</td>\n",
       "      <td>27.013689</td>\n",
       "    </tr>\n",
       "    <tr>\n",
       "      <th>2</th>\n",
       "      <td>dog-walking</td>\n",
       "      <td>21.982185</td>\n",
       "    </tr>\n",
       "  </tbody>\n",
       "</table>\n",
       "</div>"
      ],
      "text/plain": [
       "  service_type  avg_price\n",
       "0     boarding  34.506077\n",
       "1     day-care  27.013689\n",
       "2  dog-walking  21.982185"
      ]
     },
     "execution_count": 7,
     "metadata": {},
     "output_type": "execute_result"
    }
   ],
   "source": [
    "average_price_per_service"
   ]
  },
  {
   "cell_type": "markdown",
   "metadata": {},
   "source": [
    "## 2. How many requests have there been for each service type and what percentage of those have booked? The percentage of those that have booked is called booking rate.\n",
    "\n",
    "a) Use SQL query to find the number of requests and number of bookings, grouping by the service type\n",
    "\n",
    "b) In Python, calculate the booking rate as the `number_booked` divided by `number_requests`, multiply by 100"
   ]
  },
  {
   "cell_type": "code",
   "execution_count": 8,
   "metadata": {},
   "outputs": [],
   "source": [
    "query_number_requests = ('SELECT DISTINCT(service_type), COUNT(requester_id) as number_requests, COUNT(booked_at) as number_booked \\\n",
    "                          FROM services_service s \\\n",
    "                          JOIN conversations_conversation c \\\n",
    "                          ON (s.id = c.service_id) \\\n",
    "                          GROUP BY service_type;')"
   ]
  },
  {
   "cell_type": "code",
   "execution_count": 9,
   "metadata": {},
   "outputs": [],
   "source": [
    "requests_per_service = pd.read_sql_query(query_number_requests, conn)"
   ]
  },
  {
   "cell_type": "code",
   "execution_count": 10,
   "metadata": {},
   "outputs": [],
   "source": [
    "requests_per_service['booking_rate'] = (requests_per_service.number_booked / \n",
    "                                        requests_per_service.number_requests) * 100"
   ]
  },
  {
   "cell_type": "code",
   "execution_count": 11,
   "metadata": {},
   "outputs": [
    {
     "data": {
      "text/html": [
       "<div>\n",
       "<table border=\"1\" class=\"dataframe\">\n",
       "  <thead>\n",
       "    <tr style=\"text-align: right;\">\n",
       "      <th></th>\n",
       "      <th>service_type</th>\n",
       "      <th>number_requests</th>\n",
       "      <th>number_booked</th>\n",
       "      <th>booking_rate</th>\n",
       "    </tr>\n",
       "  </thead>\n",
       "  <tbody>\n",
       "    <tr>\n",
       "      <th>0</th>\n",
       "      <td>boarding</td>\n",
       "      <td>26665</td>\n",
       "      <td>10862</td>\n",
       "      <td>40.735046</td>\n",
       "    </tr>\n",
       "    <tr>\n",
       "      <th>1</th>\n",
       "      <td>day-care</td>\n",
       "      <td>26362</td>\n",
       "      <td>9417</td>\n",
       "      <td>35.721872</td>\n",
       "    </tr>\n",
       "    <tr>\n",
       "      <th>2</th>\n",
       "      <td>dog-walking</td>\n",
       "      <td>26716</td>\n",
       "      <td>12811</td>\n",
       "      <td>47.952538</td>\n",
       "    </tr>\n",
       "  </tbody>\n",
       "</table>\n",
       "</div>"
      ],
      "text/plain": [
       "  service_type  number_requests  number_booked  booking_rate\n",
       "0     boarding            26665          10862     40.735046\n",
       "1     day-care            26362           9417     35.721872\n",
       "2  dog-walking            26716          12811     47.952538"
      ]
     },
     "execution_count": 11,
     "metadata": {},
     "output_type": "execute_result"
    }
   ],
   "source": [
    "requests_per_service"
   ]
  },
  {
   "cell_type": "markdown",
   "metadata": {},
   "source": [
    "## 3. What are the cancellation rates for each service?\n",
    "\n",
    "a) Augment SQL query from above to include the number of cancellations per service type\n",
    "\n",
    "b) Calculate cancellation rate by dividing `number_cancelled` by `number_booked`, multiply by 100\n",
    "\n",
    "c) Merge tables together and format with the `service_type` as index"
   ]
  },
  {
   "cell_type": "code",
   "execution_count": 12,
   "metadata": {},
   "outputs": [],
   "source": [
    "query_cancellations = (\n",
    "    'SELECT DISTINCT(service_type), COUNT(requester_id) as number_requests, COUNT(booked_at) as number_booked, COUNT(cancelled_at) as number_cancelled \\\n",
    "     FROM services_service s \\\n",
    "     JOIN conversations_conversation c \\\n",
    "     ON (s.id = c.service_id) \\\n",
    "     GROUP BY service_type;'\n",
    ")"
   ]
  },
  {
   "cell_type": "code",
   "execution_count": 13,
   "metadata": {},
   "outputs": [],
   "source": [
    "cancellation_rate = pd.read_sql_query(query_cancellations, conn)"
   ]
  },
  {
   "cell_type": "code",
   "execution_count": 14,
   "metadata": {},
   "outputs": [],
   "source": [
    "# cancellation rate: can only cancel an already booked request \n",
    "cancellation_rate['cancellation_rate'] = (cancellation_rate.number_cancelled / \n",
    "                                          cancellation_rate.number_booked) * 100"
   ]
  },
  {
   "cell_type": "code",
   "execution_count": 15,
   "metadata": {},
   "outputs": [],
   "source": [
    "booking_cancellation_rates = pd.merge(cancellation_rate, requests_per_service, on=['service_type', 'number_requests', 'number_booked'])"
   ]
  },
  {
   "cell_type": "code",
   "execution_count": 16,
   "metadata": {},
   "outputs": [
    {
     "data": {
      "text/html": [
       "<div>\n",
       "<table border=\"1\" class=\"dataframe\">\n",
       "  <thead>\n",
       "    <tr style=\"text-align: right;\">\n",
       "      <th></th>\n",
       "      <th>service_type</th>\n",
       "      <th>number_requests</th>\n",
       "      <th>number_booked</th>\n",
       "      <th>number_cancelled</th>\n",
       "      <th>cancellation_rate</th>\n",
       "      <th>booking_rate</th>\n",
       "      <th>avg_price</th>\n",
       "    </tr>\n",
       "  </thead>\n",
       "  <tbody>\n",
       "    <tr>\n",
       "      <th>0</th>\n",
       "      <td>boarding</td>\n",
       "      <td>26665</td>\n",
       "      <td>10862</td>\n",
       "      <td>1051</td>\n",
       "      <td>9.675934</td>\n",
       "      <td>40.735046</td>\n",
       "      <td>34.506077</td>\n",
       "    </tr>\n",
       "    <tr>\n",
       "      <th>1</th>\n",
       "      <td>day-care</td>\n",
       "      <td>26362</td>\n",
       "      <td>9417</td>\n",
       "      <td>919</td>\n",
       "      <td>9.758947</td>\n",
       "      <td>35.721872</td>\n",
       "      <td>27.013689</td>\n",
       "    </tr>\n",
       "    <tr>\n",
       "      <th>2</th>\n",
       "      <td>dog-walking</td>\n",
       "      <td>26716</td>\n",
       "      <td>12811</td>\n",
       "      <td>1218</td>\n",
       "      <td>9.507455</td>\n",
       "      <td>47.952538</td>\n",
       "      <td>21.982185</td>\n",
       "    </tr>\n",
       "  </tbody>\n",
       "</table>\n",
       "</div>"
      ],
      "text/plain": [
       "  service_type  number_requests  number_booked  number_cancelled  \\\n",
       "0     boarding            26665          10862              1051   \n",
       "1     day-care            26362           9417               919   \n",
       "2  dog-walking            26716          12811              1218   \n",
       "\n",
       "   cancellation_rate  booking_rate  avg_price  \n",
       "0           9.675934     40.735046  34.506077  \n",
       "1           9.758947     35.721872  27.013689  \n",
       "2           9.507455     47.952538  21.982185  "
      ]
     },
     "execution_count": 16,
     "metadata": {},
     "output_type": "execute_result"
    }
   ],
   "source": [
    "rates_price_by_type = pd.merge(booking_cancellation_rates, average_price_per_service, on='service_type')\n",
    "rates_price_by_type"
   ]
  },
  {
   "cell_type": "code",
   "execution_count": 17,
   "metadata": {
    "scrolled": true
   },
   "outputs": [],
   "source": [
    "rates_price_by_type.rename(columns={'service_type': 'Service Type',\n",
    "                                    'number_requests': 'Number of Requests',\n",
    "                                    'number_booked': 'Number Booked',\n",
    "                                    'number_cancelled': 'Number Cancelled',\n",
    "                                    'cancellation_rate': 'Cancellation Rate',\n",
    "                                    'booking_rate': 'Booking Rate',\n",
    "                                    'avg_price': 'Average Price'}, inplace=True)"
   ]
  },
  {
   "cell_type": "code",
   "execution_count": 18,
   "metadata": {},
   "outputs": [
    {
     "data": {
      "text/html": [
       "<div>\n",
       "<table border=\"1\" class=\"dataframe\">\n",
       "  <thead>\n",
       "    <tr style=\"text-align: right;\">\n",
       "      <th></th>\n",
       "      <th>Number of Requests</th>\n",
       "      <th>Number Booked</th>\n",
       "      <th>Number Cancelled</th>\n",
       "      <th>Cancellation Rate</th>\n",
       "      <th>Booking Rate</th>\n",
       "      <th>Average Price</th>\n",
       "    </tr>\n",
       "    <tr>\n",
       "      <th>Service Type</th>\n",
       "      <th></th>\n",
       "      <th></th>\n",
       "      <th></th>\n",
       "      <th></th>\n",
       "      <th></th>\n",
       "      <th></th>\n",
       "    </tr>\n",
       "  </thead>\n",
       "  <tbody>\n",
       "    <tr>\n",
       "      <th>boarding</th>\n",
       "      <td>26665</td>\n",
       "      <td>10862</td>\n",
       "      <td>1051</td>\n",
       "      <td>9.675934</td>\n",
       "      <td>40.735046</td>\n",
       "      <td>34.506077</td>\n",
       "    </tr>\n",
       "    <tr>\n",
       "      <th>day-care</th>\n",
       "      <td>26362</td>\n",
       "      <td>9417</td>\n",
       "      <td>919</td>\n",
       "      <td>9.758947</td>\n",
       "      <td>35.721872</td>\n",
       "      <td>27.013689</td>\n",
       "    </tr>\n",
       "    <tr>\n",
       "      <th>dog-walking</th>\n",
       "      <td>26716</td>\n",
       "      <td>12811</td>\n",
       "      <td>1218</td>\n",
       "      <td>9.507455</td>\n",
       "      <td>47.952538</td>\n",
       "      <td>21.982185</td>\n",
       "    </tr>\n",
       "  </tbody>\n",
       "</table>\n",
       "</div>"
      ],
      "text/plain": [
       "              Number of Requests  Number Booked  Number Cancelled  \\\n",
       "Service Type                                                        \n",
       "boarding                   26665          10862              1051   \n",
       "day-care                   26362           9417               919   \n",
       "dog-walking                26716          12811              1218   \n",
       "\n",
       "              Cancellation Rate  Booking Rate  Average Price  \n",
       "Service Type                                                  \n",
       "boarding               9.675934     40.735046      34.506077  \n",
       "day-care               9.758947     35.721872      27.013689  \n",
       "dog-walking            9.507455     47.952538      21.982185  "
      ]
     },
     "execution_count": 18,
     "metadata": {},
     "output_type": "execute_result"
    }
   ],
   "source": [
    "rates_price_by_type = rates_price_by_type.set_index('Service Type')\n",
    "rates_price_by_type"
   ]
  },
  {
   "cell_type": "markdown",
   "metadata": {},
   "source": [
    "## 4. For uncancelled bookings, is the owner or provider more likely to leave a review and which tends to leave better reviews? How would you narrate this finding to a business partner?"
   ]
  },
  {
   "cell_type": "code",
   "execution_count": 19,
   "metadata": {},
   "outputs": [],
   "source": [
    "conversations_conversation.rename(columns={'id': 'conversation_id'}, inplace=True)"
   ]
  },
  {
   "cell_type": "code",
   "execution_count": 20,
   "metadata": {},
   "outputs": [
    {
     "data": {
      "text/html": [
       "<div>\n",
       "<table border=\"1\" class=\"dataframe\">\n",
       "  <thead>\n",
       "    <tr style=\"text-align: right;\">\n",
       "      <th></th>\n",
       "      <th>conversation_id</th>\n",
       "      <th>start_date</th>\n",
       "      <th>end_date</th>\n",
       "      <th>units</th>\n",
       "      <th>added</th>\n",
       "      <th>booking_total</th>\n",
       "      <th>cancellation_fault</th>\n",
       "      <th>requester_id</th>\n",
       "      <th>service_id</th>\n",
       "      <th>booked_at</th>\n",
       "      <th>cancelled_at</th>\n",
       "    </tr>\n",
       "  </thead>\n",
       "  <tbody>\n",
       "    <tr>\n",
       "      <th>0</th>\n",
       "      <td>208294</td>\n",
       "      <td>2017-06-06</td>\n",
       "      <td>2017-06-09</td>\n",
       "      <td>3</td>\n",
       "      <td>2017-05-25 17:06:35.796792</td>\n",
       "      <td>102</td>\n",
       "      <td>NaN</td>\n",
       "      <td>64416</td>\n",
       "      <td>81642</td>\n",
       "      <td>2017-05-26 21:02:09.499404</td>\n",
       "      <td>NaN</td>\n",
       "    </tr>\n",
       "    <tr>\n",
       "      <th>1</th>\n",
       "      <td>208295</td>\n",
       "      <td>2017-07-16</td>\n",
       "      <td>2017-07-25</td>\n",
       "      <td>9</td>\n",
       "      <td>2017-07-07 06:07:08.053227</td>\n",
       "      <td>324</td>\n",
       "      <td>NaN</td>\n",
       "      <td>64415</td>\n",
       "      <td>79559</td>\n",
       "      <td>NaN</td>\n",
       "      <td>NaN</td>\n",
       "    </tr>\n",
       "  </tbody>\n",
       "</table>\n",
       "</div>"
      ],
      "text/plain": [
       "   conversation_id  start_date    end_date  units                       added  \\\n",
       "0           208294  2017-06-06  2017-06-09      3  2017-05-25 17:06:35.796792   \n",
       "1           208295  2017-07-16  2017-07-25      9  2017-07-07 06:07:08.053227   \n",
       "\n",
       "   booking_total cancellation_fault  requester_id  service_id  \\\n",
       "0            102                NaN         64416       81642   \n",
       "1            324                NaN         64415       79559   \n",
       "\n",
       "                    booked_at cancelled_at  \n",
       "0  2017-05-26 21:02:09.499404          NaN  \n",
       "1                         NaN          NaN  "
      ]
     },
     "execution_count": 20,
     "metadata": {},
     "output_type": "execute_result"
    }
   ],
   "source": [
    "conversations_conversation.head(2)"
   ]
  },
  {
   "cell_type": "code",
   "execution_count": 21,
   "metadata": {},
   "outputs": [
    {
     "data": {
      "text/html": [
       "<div>\n",
       "<table border=\"1\" class=\"dataframe\">\n",
       "  <thead>\n",
       "    <tr style=\"text-align: right;\">\n",
       "      <th></th>\n",
       "      <th>id</th>\n",
       "      <th>content</th>\n",
       "      <th>stars</th>\n",
       "      <th>conversation_id</th>\n",
       "      <th>reviewer_id</th>\n",
       "    </tr>\n",
       "  </thead>\n",
       "  <tbody>\n",
       "    <tr>\n",
       "      <th>0</th>\n",
       "      <td>73828</td>\n",
       "      <td>Curae donec quam quisque quam.</td>\n",
       "      <td>4</td>\n",
       "      <td>208294</td>\n",
       "      <td>2617</td>\n",
       "    </tr>\n",
       "    <tr>\n",
       "      <th>1</th>\n",
       "      <td>73829</td>\n",
       "      <td>Risus donec scelerisque ultrices commodo nulla.</td>\n",
       "      <td>5</td>\n",
       "      <td>208296</td>\n",
       "      <td>64414</td>\n",
       "    </tr>\n",
       "  </tbody>\n",
       "</table>\n",
       "</div>"
      ],
      "text/plain": [
       "      id                                          content  stars  \\\n",
       "0  73828                   Curae donec quam quisque quam.      4   \n",
       "1  73829  Risus donec scelerisque ultrices commodo nulla.      5   \n",
       "\n",
       "   conversation_id  reviewer_id  \n",
       "0           208294         2617  \n",
       "1           208296        64414  "
      ]
     },
     "execution_count": 21,
     "metadata": {},
     "output_type": "execute_result"
    }
   ],
   "source": [
    "conversations_review.head(2)"
   ]
  },
  {
   "cell_type": "code",
   "execution_count": 22,
   "metadata": {},
   "outputs": [
    {
     "data": {
      "text/html": [
       "<div>\n",
       "<table border=\"1\" class=\"dataframe\">\n",
       "  <thead>\n",
       "    <tr style=\"text-align: right;\">\n",
       "      <th></th>\n",
       "      <th>conversation_id</th>\n",
       "      <th>start_date</th>\n",
       "      <th>end_date</th>\n",
       "      <th>units</th>\n",
       "      <th>added</th>\n",
       "      <th>booking_total</th>\n",
       "      <th>cancellation_fault</th>\n",
       "      <th>requester_id</th>\n",
       "      <th>service_id</th>\n",
       "      <th>booked_at</th>\n",
       "      <th>cancelled_at</th>\n",
       "      <th>id</th>\n",
       "      <th>content</th>\n",
       "      <th>stars</th>\n",
       "      <th>reviewer_id</th>\n",
       "    </tr>\n",
       "  </thead>\n",
       "  <tbody>\n",
       "    <tr>\n",
       "      <th>0</th>\n",
       "      <td>208294</td>\n",
       "      <td>2017-06-06</td>\n",
       "      <td>2017-06-09</td>\n",
       "      <td>3</td>\n",
       "      <td>2017-05-25 17:06:35.796792</td>\n",
       "      <td>102</td>\n",
       "      <td>NaN</td>\n",
       "      <td>64416</td>\n",
       "      <td>81642</td>\n",
       "      <td>2017-05-26 21:02:09.499404</td>\n",
       "      <td>NaN</td>\n",
       "      <td>73828</td>\n",
       "      <td>Curae donec quam quisque quam.</td>\n",
       "      <td>4</td>\n",
       "      <td>2617</td>\n",
       "    </tr>\n",
       "    <tr>\n",
       "      <th>1</th>\n",
       "      <td>208296</td>\n",
       "      <td>2017-06-06</td>\n",
       "      <td>2017-06-12</td>\n",
       "      <td>6</td>\n",
       "      <td>2017-05-26 17:47:38.312937</td>\n",
       "      <td>102</td>\n",
       "      <td>NaN</td>\n",
       "      <td>64414</td>\n",
       "      <td>91348</td>\n",
       "      <td>2017-05-29 01:27:14.256611</td>\n",
       "      <td>NaN</td>\n",
       "      <td>73829</td>\n",
       "      <td>Risus donec scelerisque ultrices commodo nulla.</td>\n",
       "      <td>5</td>\n",
       "      <td>64414</td>\n",
       "    </tr>\n",
       "  </tbody>\n",
       "</table>\n",
       "</div>"
      ],
      "text/plain": [
       "   conversation_id  start_date    end_date  units                       added  \\\n",
       "0           208294  2017-06-06  2017-06-09      3  2017-05-25 17:06:35.796792   \n",
       "1           208296  2017-06-06  2017-06-12      6  2017-05-26 17:47:38.312937   \n",
       "\n",
       "   booking_total cancellation_fault  requester_id  service_id  \\\n",
       "0            102                NaN         64416       81642   \n",
       "1            102                NaN         64414       91348   \n",
       "\n",
       "                    booked_at cancelled_at     id  \\\n",
       "0  2017-05-26 21:02:09.499404          NaN  73828   \n",
       "1  2017-05-29 01:27:14.256611          NaN  73829   \n",
       "\n",
       "                                           content  stars  reviewer_id  \n",
       "0                   Curae donec quam quisque quam.      4         2617  \n",
       "1  Risus donec scelerisque ultrices commodo nulla.      5        64414  "
      ]
     },
     "execution_count": 22,
     "metadata": {},
     "output_type": "execute_result"
    }
   ],
   "source": [
    "reviews = pd.merge(conversations_conversation, conversations_review, on='conversation_id')\n",
    "reviews.head(2)"
   ]
  },
  {
   "cell_type": "code",
   "execution_count": 23,
   "metadata": {},
   "outputs": [
    {
     "data": {
      "text/html": [
       "<div>\n",
       "<table border=\"1\" class=\"dataframe\">\n",
       "  <thead>\n",
       "    <tr style=\"text-align: right;\">\n",
       "      <th></th>\n",
       "      <th>conversation_id</th>\n",
       "      <th>requester_id</th>\n",
       "      <th>service_id</th>\n",
       "      <th>booked_at</th>\n",
       "      <th>cancelled_at</th>\n",
       "      <th>id</th>\n",
       "      <th>stars</th>\n",
       "      <th>reviewer_id</th>\n",
       "    </tr>\n",
       "  </thead>\n",
       "  <tbody>\n",
       "    <tr>\n",
       "      <th>0</th>\n",
       "      <td>208294</td>\n",
       "      <td>64416</td>\n",
       "      <td>81642</td>\n",
       "      <td>2017-05-26 21:02:09.499404</td>\n",
       "      <td>NaN</td>\n",
       "      <td>73828</td>\n",
       "      <td>4</td>\n",
       "      <td>2617</td>\n",
       "    </tr>\n",
       "    <tr>\n",
       "      <th>1</th>\n",
       "      <td>208296</td>\n",
       "      <td>64414</td>\n",
       "      <td>91348</td>\n",
       "      <td>2017-05-29 01:27:14.256611</td>\n",
       "      <td>NaN</td>\n",
       "      <td>73829</td>\n",
       "      <td>5</td>\n",
       "      <td>64414</td>\n",
       "    </tr>\n",
       "  </tbody>\n",
       "</table>\n",
       "</div>"
      ],
      "text/plain": [
       "   conversation_id  requester_id  service_id                   booked_at  \\\n",
       "0           208294         64416       81642  2017-05-26 21:02:09.499404   \n",
       "1           208296         64414       91348  2017-05-29 01:27:14.256611   \n",
       "\n",
       "  cancelled_at     id  stars  reviewer_id  \n",
       "0          NaN  73828      4         2617  \n",
       "1          NaN  73829      5        64414  "
      ]
     },
     "execution_count": 23,
     "metadata": {},
     "output_type": "execute_result"
    }
   ],
   "source": [
    "reviews.drop(['start_date',\n",
    "              'end_date',\n",
    "              'units',\n",
    "              'added',\n",
    "              'booking_total',\n",
    "              'cancellation_fault',\n",
    "              'content'], axis=1, inplace=True)\n",
    "reviews.head(2)"
   ]
  },
  {
   "cell_type": "code",
   "execution_count": 24,
   "metadata": {},
   "outputs": [
    {
     "data": {
      "text/plain": [
       "(28536, 8)"
      ]
     },
     "execution_count": 24,
     "metadata": {},
     "output_type": "execute_result"
    }
   ],
   "source": [
    "reviews.shape"
   ]
  },
  {
   "cell_type": "code",
   "execution_count": 25,
   "metadata": {},
   "outputs": [
    {
     "data": {
      "text/plain": [
       "NaN    28536\n",
       "Name: cancelled_at, dtype: int64"
      ]
     },
     "execution_count": 25,
     "metadata": {},
     "output_type": "execute_result"
    }
   ],
   "source": [
    "# Checking to make sure that none of these entries have been cancelled. \n",
    "reviews.cancelled_at.value_counts(dropna=False)"
   ]
  },
  {
   "cell_type": "code",
   "execution_count": 26,
   "metadata": {},
   "outputs": [
    {
     "data": {
      "text/html": [
       "<div>\n",
       "<table border=\"1\" class=\"dataframe\">\n",
       "  <thead>\n",
       "    <tr style=\"text-align: right;\">\n",
       "      <th></th>\n",
       "      <th>conversation_id</th>\n",
       "      <th>requester_id</th>\n",
       "      <th>service_id</th>\n",
       "      <th>booked_at</th>\n",
       "      <th>cancelled_at</th>\n",
       "      <th>id</th>\n",
       "      <th>stars</th>\n",
       "      <th>reviewer_id</th>\n",
       "      <th>who_booked</th>\n",
       "    </tr>\n",
       "  </thead>\n",
       "  <tbody>\n",
       "    <tr>\n",
       "      <th>0</th>\n",
       "      <td>208294</td>\n",
       "      <td>64416</td>\n",
       "      <td>81642</td>\n",
       "      <td>2017-05-26 21:02:09.499404</td>\n",
       "      <td>NaN</td>\n",
       "      <td>73828</td>\n",
       "      <td>4</td>\n",
       "      <td>2617</td>\n",
       "      <td>Provider</td>\n",
       "    </tr>\n",
       "    <tr>\n",
       "      <th>1</th>\n",
       "      <td>208296</td>\n",
       "      <td>64414</td>\n",
       "      <td>91348</td>\n",
       "      <td>2017-05-29 01:27:14.256611</td>\n",
       "      <td>NaN</td>\n",
       "      <td>73829</td>\n",
       "      <td>5</td>\n",
       "      <td>64414</td>\n",
       "      <td>Owner</td>\n",
       "    </tr>\n",
       "  </tbody>\n",
       "</table>\n",
       "</div>"
      ],
      "text/plain": [
       "   conversation_id  requester_id  service_id                   booked_at  \\\n",
       "0           208294         64416       81642  2017-05-26 21:02:09.499404   \n",
       "1           208296         64414       91348  2017-05-29 01:27:14.256611   \n",
       "\n",
       "  cancelled_at     id  stars  reviewer_id who_booked  \n",
       "0          NaN  73828      4         2617   Provider  \n",
       "1          NaN  73829      5        64414      Owner  "
      ]
     },
     "execution_count": 26,
     "metadata": {},
     "output_type": "execute_result"
    }
   ],
   "source": [
    "reviews['who_booked'] = np.where(reviews['requester_id'] == reviews['reviewer_id'], 'Owner', 'Provider')\n",
    "reviews.head(2)"
   ]
  },
  {
   "cell_type": "code",
   "execution_count": 27,
   "metadata": {},
   "outputs": [
    {
     "data": {
      "text/html": [
       "<div>\n",
       "<table border=\"1\" class=\"dataframe\">\n",
       "  <thead>\n",
       "    <tr style=\"text-align: right;\">\n",
       "      <th></th>\n",
       "      <th>conversation_id</th>\n",
       "      <th>requester_id</th>\n",
       "      <th>stars</th>\n",
       "      <th>reviewer_id</th>\n",
       "      <th>who_booked</th>\n",
       "    </tr>\n",
       "  </thead>\n",
       "  <tbody>\n",
       "    <tr>\n",
       "      <th>0</th>\n",
       "      <td>208294</td>\n",
       "      <td>64416</td>\n",
       "      <td>4</td>\n",
       "      <td>2617</td>\n",
       "      <td>Provider</td>\n",
       "    </tr>\n",
       "    <tr>\n",
       "      <th>1</th>\n",
       "      <td>208296</td>\n",
       "      <td>64414</td>\n",
       "      <td>5</td>\n",
       "      <td>64414</td>\n",
       "      <td>Owner</td>\n",
       "    </tr>\n",
       "  </tbody>\n",
       "</table>\n",
       "</div>"
      ],
      "text/plain": [
       "   conversation_id  requester_id  stars  reviewer_id who_booked\n",
       "0           208294         64416      4         2617   Provider\n",
       "1           208296         64414      5        64414      Owner"
      ]
     },
     "execution_count": 27,
     "metadata": {},
     "output_type": "execute_result"
    }
   ],
   "source": [
    "reviews.drop(['service_id',\n",
    "              'booked_at',\n",
    "              'cancelled_at',\n",
    "              'id'], axis=1, inplace=True)\n",
    "reviews.head(2)"
   ]
  },
  {
   "cell_type": "code",
   "execution_count": 28,
   "metadata": {},
   "outputs": [
    {
     "data": {
      "text/plain": [
       "who_booked\n",
       "Owner       22493\n",
       "Provider     6043\n",
       "Name: stars, dtype: int64"
      ]
     },
     "execution_count": 28,
     "metadata": {},
     "output_type": "execute_result"
    }
   ],
   "source": [
    "# Number in each category leaving reviews, owners leave more reviews than providers\n",
    "reviews.groupby('who_booked')['stars'].count()"
   ]
  },
  {
   "cell_type": "code",
   "execution_count": 29,
   "metadata": {
    "scrolled": true
   },
   "outputs": [
    {
     "data": {
      "text/plain": [
       "who_booked\n",
       "Owner       4.405815\n",
       "Provider    3.885818\n",
       "Name: stars, dtype: float64"
      ]
     },
     "execution_count": 29,
     "metadata": {},
     "output_type": "execute_result"
    }
   ],
   "source": [
    "(reviews.groupby('who_booked')['stars'].sum()) / (reviews.groupby('who_booked')['stars'].count())"
   ]
  },
  {
   "cell_type": "code",
   "execution_count": 30,
   "metadata": {},
   "outputs": [
    {
     "data": {
      "text/plain": [
       "21.176759181384917"
      ]
     },
     "execution_count": 30,
     "metadata": {},
     "output_type": "execute_result"
    }
   ],
   "source": [
    "6043 / (6043+22493) * 100"
   ]
  },
  {
   "cell_type": "code",
   "execution_count": 31,
   "metadata": {},
   "outputs": [
    {
     "data": {
      "text/plain": [
       "78.82324081861508"
      ]
     },
     "execution_count": 31,
     "metadata": {},
     "output_type": "execute_result"
    }
   ],
   "source": [
    "22493 / (6043+22493) * 100"
   ]
  },
  {
   "cell_type": "markdown",
   "metadata": {},
   "source": [
    "## Analysis\n",
    "\n",
    "### Owners tend to leave better reviews than providers. One reason may be that reviews owners leave are shared with the provider, whereas reviews providers leave are private. \n",
    "\n",
    "### Owners also leave more reviews. 79% of the reviews come from owners, whereas only 21% come from providers. Owners care a lot about their animals and are highly invested in the service. I would be curious to know how many providers rely on this service as their soul source of income. I bet that many providers do not rely on this and so are not as invested as the owners are."
   ]
  },
  {
   "cell_type": "markdown",
   "metadata": {},
   "source": [
    "# 5. Further Questions\n",
    "- Is there a correlation between the review statistics and longer stays, multiple dogs, weekend stays, or provider owning a dog themself?\n",
    "- Where are the outliers in the ratings? \n",
    "- How does the company encourage owners and providers to write a review, is there a difference between the two groups.\n",
    "- What is the average booking rate for owners/providers that leave reviews, is it different from owners/providers that do not leave reviews?\n",
    "- Are there people that always leave a review or never leave a review?\n",
    "- What percentage of bookings are reviewed?\n",
    "- Are owners/providers more likely to leave a review if they liked a service?"
   ]
  },
  {
   "cell_type": "code",
   "execution_count": null,
   "metadata": {},
   "outputs": [],
   "source": []
  }
 ],
 "metadata": {
  "kernelspec": {
   "display_name": "Python 3",
   "language": "python",
   "name": "python3"
  },
  "language_info": {
   "codemirror_mode": {
    "name": "ipython",
    "version": 3
   },
   "file_extension": ".py",
   "mimetype": "text/x-python",
   "name": "python",
   "nbconvert_exporter": "python",
   "pygments_lexer": "ipython3",
   "version": "3.6.2"
  }
 },
 "nbformat": 4,
 "nbformat_minor": 2
}
